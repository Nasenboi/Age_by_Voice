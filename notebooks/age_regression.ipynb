{
 "cells": [
  {
   "cell_type": "markdown",
   "id": "8ea68055",
   "metadata": {},
   "source": [
    "# Age Regression Notebook"
   ]
  },
  {
   "cell_type": "code",
   "execution_count": null,
   "id": "f0265e15",
   "metadata": {},
   "outputs": [],
   "source": [
    "import os\n",
    "import pandas as pd\n",
    "import numpy as np\n",
    "from sklearn.utils import class_weight\n",
    "from sklearn.model_selection import train_test_split\n",
    "from xgboost import XGBRegressor\n",
    "from sklearn.metrics import confusion_matrix, accuracy_score, mean_squared_error, mean_absolute_error, r2_score\n",
    "\n",
    "import matplotlib.pyplot as plt\n",
    "import seaborn as sns"
   ]
  },
  {
   "cell_type": "code",
   "execution_count": null,
   "id": "723f5fbe",
   "metadata": {},
   "outputs": [],
   "source": [
    "feature_path = \"../data/features.csv\"\n",
    "voices_path = \"../data/voices.csv\""
   ]
  },
  {
   "cell_type": "code",
   "execution_count": null,
   "id": "c74a72c0",
   "metadata": {},
   "outputs": [],
   "source": [
    "features = pd.read_csv(feature_path, index_col=\"clip_id\")\n",
    "voices = pd.read_csv(voices_path, index_col=\"clip_id\")"
   ]
  },
  {
   "cell_type": "code",
   "execution_count": null,
   "id": "afbd1cd9",
   "metadata": {},
   "outputs": [],
   "source": [
    "# turn 90 and 80 to >= 80\n",
    "data = voices.merge(features, left_index=True, right_index=True, how='inner')\n",
    "data.loc[data.voice_age_group == 90, \"voice_age_group\"] = 80\n",
    "data.voice_age_group = (data.voice_age_group-20) / 60\n",
    "data.voice_age_group.value_counts()"
   ]
  },
  {
   "cell_type": "code",
   "execution_count": null,
   "id": "983bdb7f",
   "metadata": {},
   "outputs": [],
   "source": [
    "data = data.groupby('voice_age_group', group_keys=False).apply(\n",
    "    lambda x: x.sample(n=2000, replace=True, random_state=42)\n",
    ").sample(frac=1, random_state=42)\n",
    "data.voice_age_group.value_counts()"
   ]
  },
  {
   "cell_type": "code",
   "execution_count": null,
   "id": "570a4e36",
   "metadata": {},
   "outputs": [],
   "source": [
    "data.head()"
   ]
  },
  {
   "cell_type": "code",
   "execution_count": null,
   "id": "eeb914c6",
   "metadata": {},
   "outputs": [],
   "source": [
    "X = data[features.columns]\n",
    "y = data[\"voice_age_group\"]"
   ]
  },
  {
   "cell_type": "code",
   "execution_count": null,
   "id": "a29d57e0",
   "metadata": {},
   "outputs": [],
   "source": [
    "X_train, X_test, y_train, y_test = train_test_split(X, y, test_size=0.2)"
   ]
  },
  {
   "cell_type": "code",
   "execution_count": null,
   "id": "7e8dfc68",
   "metadata": {},
   "outputs": [],
   "source": [
    "from sklearn.preprocessing import StandardScaler\n",
    "scaler = StandardScaler()\n",
    "X_train_s = scaler.fit_transform(X_train)\n",
    "X_test_s = scaler.transform(X_test)"
   ]
  },
  {
   "cell_type": "code",
   "execution_count": null,
   "id": "cef9821b",
   "metadata": {},
   "outputs": [],
   "source": [
    "\n",
    "def evaluate_model_regression(model, X_train, X_test, y_train, y_test):\n",
    "    y_pred_train = model.predict(X_train)\n",
    "    y_pred_test = model.predict(X_test)\n",
    "    y_pred_test_rounded = np.round(model.predict(X_test))\n",
    "\n",
    "    # Regression metrics\n",
    "    print(\"Train MAE:\", mean_absolute_error(y_train, y_pred_train))\n",
    "    print(\"Test MAE:\", mean_absolute_error(y_test, y_pred_test))\n",
    "    print(\"Rounded Test MAE:\", mean_absolute_error(y_test, y_pred_test_rounded))\n",
    "    print(\"\\nTrain MSE:\", mean_squared_error(y_train, y_pred_train))\n",
    "    print(\"Test MSE:\", mean_squared_error(y_test, y_pred_test))\n",
    "    print(\"\\nTrain R²:\", r2_score(y_train, y_pred_train))\n",
    "    print(\"Test R²:\", r2_score(y_test, y_pred_test))\n",
    "\n",
    "    # Scatter plot of true vs predicted values\n",
    "    plt.figure(figsize=(8, 6))\n",
    "    sns.scatterplot(x=y_test, y=y_pred_test, alpha=0.6)\n",
    "    plt.plot([min(y_test), max(y_test)], [min(y_test), max(y_test)], 'r--')  # Diagonal line\n",
    "    plt.xlabel(\"True Age\")\n",
    "    plt.ylabel(\"Predicted Age\")\n",
    "    plt.title(\"True vs Predicted Age (Test Set)\")\n",
    "    plt.show()\n",
    "\n",
    "    # Residual plot (helps check for bias)\n",
    "    \"\"\"\n",
    "    residuals = y_test - y_pred_test\n",
    "    plt.figure(figsize=(8, 6))\n",
    "    sns.scatterplot(x=y_pred_test, y=residuals, alpha=0.6)\n",
    "    plt.axhline(y=0, color='r', linestyle='--')\n",
    "    plt.xlabel(\"Predicted Age\")\n",
    "    plt.ylabel(\"Residuals (True - Predicted)\")\n",
    "    plt.title(\"Residual Plot\")\n",
    "    plt.show()\n",
    "    \"\"\""
   ]
  },
  {
   "cell_type": "markdown",
   "id": "cb065a48",
   "metadata": {},
   "source": [
    "# Linear Regression"
   ]
  },
  {
   "cell_type": "code",
   "execution_count": null,
   "id": "6317b593",
   "metadata": {},
   "outputs": [],
   "source": [
    "from sklearn.linear_model import LinearRegression\n",
    "\n",
    "model = LinearRegression()\n",
    "model.fit(X_train_s, y_train)"
   ]
  },
  {
   "cell_type": "code",
   "execution_count": null,
   "id": "66ebf218",
   "metadata": {},
   "outputs": [],
   "source": [
    "evaluate_model_regression(model, X_train_s, X_test_s, y_train, y_test)"
   ]
  },
  {
   "cell_type": "markdown",
   "id": "49824210",
   "metadata": {},
   "source": [
    "# Random Forest Regressor"
   ]
  },
  {
   "cell_type": "code",
   "execution_count": null,
   "id": "05883171",
   "metadata": {},
   "outputs": [],
   "source": [
    "from sklearn.ensemble import RandomForestRegressor\n",
    "\n",
    "model = RandomForestRegressor(n_estimators=100, random_state=42)\n",
    "model.fit(X_train, y_train)"
   ]
  },
  {
   "cell_type": "code",
   "execution_count": null,
   "id": "08079689",
   "metadata": {},
   "outputs": [],
   "source": [
    "evaluate_model_regression(model, X_train, X_test, y_train, y_test)"
   ]
  },
  {
   "cell_type": "markdown",
   "id": "becb8aaa",
   "metadata": {},
   "source": [
    "# XGB Boost"
   ]
  },
  {
   "cell_type": "code",
   "execution_count": null,
   "id": "e3a146a9",
   "metadata": {},
   "outputs": [],
   "source": [
    "from xgboost import XGBRegressor\n",
    "from sklearn.model_selection import GridSearchCV\n",
    "\n",
    "# Define the parameter grid\n",
    "param_grid = {\n",
    "    'n_estimators': [300, 500, 1000],       # Number of trees\n",
    "    'max_depth': [3, 5, 7],                # Tree depth (lower = less overfitting)\n",
    "}\n",
    "\n",
    "# Initialize the model\n",
    "model = XGBRegressor(random_state=42, objective='reg:squarederror')\n",
    "\n",
    "# Set up GridSearchCV\n",
    "grid_search = GridSearchCV(\n",
    "    estimator=model,\n",
    "    param_grid=param_grid,\n",
    "    scoring='neg_mean_absolute_error',  # Focus on MAE (aligns with your metric)\n",
    "    cv=3,                               # 5-fold cross-validation\n",
    "    n_jobs=-1,                          # Use all CPU cores\n",
    "    verbose=2\n",
    ")\n",
    "\n",
    "# Run the grid search\n",
    "grid_search.fit(X_train, y_train)\n",
    "\n",
    "# Best parameters and results\n",
    "print(\"Best Parameters:\", grid_search.best_params_)\n",
    "print(\"Best MAE:\", -grid_search.best_score_)\n",
    "evaluate_model_regression(grid_search.best_estimator_, X_train, X_test, y_train, y_test)"
   ]
  },
  {
   "cell_type": "code",
   "execution_count": null,
   "id": "be249a06",
   "metadata": {},
   "outputs": [],
   "source": []
  }
 ],
 "metadata": {
  "kernelspec": {
   "display_name": "age_by_voice",
   "language": "python",
   "name": "age_by_voice"
  },
  "language_info": {
   "codemirror_mode": {
    "name": "ipython",
    "version": 3
   },
   "file_extension": ".py",
   "mimetype": "text/x-python",
   "name": "python",
   "nbconvert_exporter": "python",
   "pygments_lexer": "ipython3",
   "version": "3.10.16"
  }
 },
 "nbformat": 4,
 "nbformat_minor": 5
}
