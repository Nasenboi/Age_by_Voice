{
 "cells": [
  {
   "cell_type": "markdown",
   "id": "fb57581a",
   "metadata": {},
   "source": [
    "# Parse Datasets\n",
    "Use this code to parse a dataset\n",
    "### Supported Datasets so far:\n",
    "- [Mozilla Common Voice](https://commonvoice.mozilla.org/de)\n",
    "- [TIMIT](https://github.com/philipperemy/timit) (Not impemented yet, the BaseParser has changed!)"
   ]
  },
  {
   "cell_type": "code",
   "execution_count": null,
   "id": "94fcd8cc",
   "metadata": {},
   "outputs": [],
   "source": [
    "# Imports\n",
    "# Python packages\n",
    "import os\n",
    "import numpy as np\n",
    "import matplotlib.pyplot as plt\n",
    "import IPython.display as ipd\n",
    "\n",
    "\n",
    "# Custom package\n",
    "import sys\n",
    "from pathlib import Path\n",
    "sys.path.append(str(Path().resolve().parent / \"src\"))\n",
    "from age_by_voice.parsers.cv_parser import CVParser"
   ]
  },
  {
   "cell_type": "code",
   "execution_count": null,
   "id": "45641e23",
   "metadata": {},
   "outputs": [],
   "source": [
    "dataset_path = \"/home/chr1s/Downloads/cv-corpus-21.0-2025-03-14/en/validated.tsv\"\n",
    "audio_path = \"/home/chr1s/Downloads/cv-corpus-21.0-2025-03-14/en/clips/\"\n",
    "\n",
    "voice_csv_path = \"data/voice.csv\"\n",
    "features_csv_path = \"data/features.csv\"\n",
    "\n",
    "save_path = \"/home/chr1s/Dokumente/github/Programming/Python/Age_by_Voice/data/csv_saves/compare\""
   ]
  },
  {
   "cell_type": "code",
   "execution_count": null,
   "id": "95bbed22",
   "metadata": {},
   "outputs": [
    {
     "name": "stderr",
     "output_type": "stream",
     "text": [
      "Parsing:   0%|          | 393/1845369 [00:08<6:08:35] - , Clips=33 Exception ignored on calling ctypes callback function: <function OpenSMILE.external_sink_set_callback_ex.<locals>.internal_callback_ex at 0x7ea2116ef760>\n",
      "Traceback (most recent call last):\n",
      "  File \"/home/chr1s/.conda/envs/age_by_voice/lib/python3.10/site-packages/opensmile/core/lib.py\", line 458, in internal_callback_ex\n",
      "    def internal_callback_ex(data, nt, n, meta: POINTER(FrameMetaData), _):\n",
      "KeyboardInterrupt: \n",
      "/home/chr1s/.conda/envs/age_by_voice/lib/python3.10/site-packages/opensmile/core/smile.py:297: UserWarning: Segment too short, filling with NaN.\n",
      "  warnings.warn(UserWarning(\"Segment too short, filling with NaN.\"))\n",
      "Parsing:   0%|          | 801/1845369 [00:19<8:19:16] - , Clips=79 "
     ]
    }
   ],
   "source": [
    "cvparser = CVParser(dataset_path, audio_path, save_dir=save_path, mono=True, feature_set=\"ComParE2016\")\n",
    "cvparser.parse(save_dir=save_path)"
   ]
  },
  {
   "cell_type": "code",
   "execution_count": null,
   "id": "814a0b0b",
   "metadata": {},
   "outputs": [],
   "source": [
    "cvparser._features"
   ]
  },
  {
   "cell_type": "code",
   "execution_count": null,
   "id": "bafc3d72",
   "metadata": {},
   "outputs": [],
   "source": [
    "audio = cvparser._voices.audio_file_name.sample(1).values[0]\n",
    "audio = os.path.join(audio_path, audio)\n",
    "ipd.Audio(audio)  # Play audio"
   ]
  },
  {
   "cell_type": "code",
   "execution_count": null,
   "id": "26d8f935",
   "metadata": {},
   "outputs": [],
   "source": [
    "#cvparser.save_features(features_csv_path)\n",
    "#cvparser.save_voices(voice_csv_path)"
   ]
  }
 ],
 "metadata": {
  "kernelspec": {
   "display_name": "age_by_voice",
   "language": "python",
   "name": "age_by_voice"
  },
  "language_info": {
   "codemirror_mode": {
    "name": "ipython",
    "version": 3
   },
   "file_extension": ".py",
   "mimetype": "text/x-python",
   "name": "python",
   "nbconvert_exporter": "python",
   "pygments_lexer": "ipython3",
   "version": "3.10.16"
  }
 },
 "nbformat": 4,
 "nbformat_minor": 5
}
