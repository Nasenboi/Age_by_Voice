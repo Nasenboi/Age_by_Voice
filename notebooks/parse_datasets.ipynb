{
 "cells": [
  {
   "cell_type": "markdown",
   "id": "fb57581a",
   "metadata": {},
   "source": [
    "# Parse Datasets\n",
    "Use this code to parse a dataset\n",
    "### Supported Datasets so far:\n",
    "- [Mozilla Common Voice](https://commonvoice.mozilla.org/de)\n",
    "- [TIMIT]()"
   ]
  },
  {
   "cell_type": "code",
   "execution_count": null,
   "id": "94fcd8cc",
   "metadata": {
    "vscode": {
     "languageId": "plaintext"
    }
   },
   "outputs": [],
   "source": []
  },
  {
   "cell_type": "markdown",
   "id": "dfcdfcb1",
   "metadata": {},
   "source": []
  }
 ],
 "metadata": {
  "language_info": {
   "name": "python"
  }
 },
 "nbformat": 4,
 "nbformat_minor": 5
}
