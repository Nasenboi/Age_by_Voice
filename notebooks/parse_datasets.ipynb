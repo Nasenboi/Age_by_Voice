{
 "cells": [
  {
   "cell_type": "markdown",
   "id": "fb57581a",
   "metadata": {},
   "source": [
    "# Parse Datasets\n",
    "Use this code to parse a dataset\n",
    "### Supported Datasets so far:\n",
    "- [Mozilla Common Voice](https://commonvoice.mozilla.org/de)\n",
    "- [TIMIT](https://github.com/philipperemy/timit) (Not impemented yet, the BaseParser has changed!)"
   ]
  },
  {
   "cell_type": "code",
   "execution_count": null,
   "id": "94fcd8cc",
   "metadata": {},
   "outputs": [],
   "source": [
    "# Imports\n",
    "# Python packages\n",
    "import os\n",
    "import numpy as np\n",
    "import matplotlib.pyplot as plt\n",
    "import IPython.display as ipd\n",
    "\n",
    "\n",
    "# Custom package\n",
    "import sys\n",
    "from pathlib import Path\n",
    "sys.path.append(str(Path().resolve().parent / \"src\"))\n",
    "from age_by_voice.parsers.cv_parser import CVParser"
   ]
  },
  {
   "cell_type": "code",
   "execution_count": null,
   "id": "45641e23",
   "metadata": {},
   "outputs": [],
   "source": [
    "dataset_path = \"/home/chr1s/Downloads/cv-corpus-21.0-2025-03-14/en/validated.tsv\"\n",
    "audio_path = \"/home/chr1s/Downloads/cv-corpus-21.0-2025-03-14/en/clips/\"\n",
    "\n",
    "voice_csv_path = \"../data/voice.csv\"\n",
    "features_csv_path = \"../data/features.csv\"\n",
    "\n",
    "save_path = \"/home/chr1s/Dokumente/github/Programming/Python/Age_by_Voice/data/csv_saves/gemaps\""
   ]
  },
  {
   "cell_type": "code",
   "execution_count": null,
   "id": "95bbed22",
   "metadata": {},
   "outputs": [],
   "source": [
    "cvparser = CVParser(dataset_path, audio_path, save_dir=save_path, mono=True, feature_set=\"GeMAPSv02\")\n",
    "#cvparser.parse(save_dir=save_path, num_saves=1, save_interval=10_000, extract_audio_features=False)"
   ]
  },
  {
   "cell_type": "code",
   "execution_count": null,
   "id": "814a0b0b",
   "metadata": {},
   "outputs": [],
   "source": [
    "cvparser._voices.voice_gender.value_counts()"
   ]
  },
  {
   "cell_type": "code",
   "execution_count": null,
   "id": "2b4fc011",
   "metadata": {},
   "outputs": [],
   "source": [
    "cvparser._voices.voice_age_group.value_counts()"
   ]
  },
  {
   "cell_type": "code",
   "execution_count": null,
   "id": "cd9aa9b3",
   "metadata": {},
   "outputs": [],
   "source": [
    "cvparser._voices.features_extracted.value_counts()"
   ]
  },
  {
   "cell_type": "code",
   "execution_count": null,
   "id": "fe332579",
   "metadata": {},
   "outputs": [],
   "source": [
    "cvparser.extract_features_from_voice_df(save_dir=save_path, num_saves=2, save_interval=5_000)"
   ]
  },
  {
   "cell_type": "code",
   "execution_count": null,
   "id": "84b98874",
   "metadata": {},
   "outputs": [],
   "source": [
    "cvparser._features"
   ]
  },
  {
   "cell_type": "code",
   "execution_count": null,
   "id": "d4c6a219",
   "metadata": {},
   "outputs": [],
   "source": []
  },
  {
   "cell_type": "code",
   "execution_count": null,
   "id": "bafc3d72",
   "metadata": {},
   "outputs": [],
   "source": [
    "\"\"\"\n",
    "audio = cvparser._voices.audio_file_name.sample(1).values[0]\n",
    "audio = os.path.join(audio_path, audio)\n",
    "ipd.Audio(audio)  # Play audio\n",
    "\"\"\""
   ]
  },
  {
   "cell_type": "code",
   "execution_count": null,
   "id": "26d8f935",
   "metadata": {},
   "outputs": [],
   "source": [
    "cvparser.save_features(features_csv_path)\n",
    "cvparser.save_voices(voice_csv_path)"
   ]
  },
  {
   "cell_type": "code",
   "execution_count": null,
   "id": "ca4eb632",
   "metadata": {},
   "outputs": [],
   "source": [
    "\"\"\"\n",
    "# Even out the dataset\n",
    "import pandas as pd\n",
    "from sklearn.utils import resample\n",
    "\n",
    "df_majority = cvparser._voices[cvparser._voices['voice_gender'] == 'm']\n",
    "df_minority = cvparser._voices[cvparser._voices['voice_gender'] == 'f']\n",
    "\n",
    "df_majority_downsampled = resample(\n",
    "    df_majority,\n",
    "    replace=False,  # without replacement\n",
    "    n_samples=len(df_minority),  # match minority class\n",
    "    random_state=42\n",
    ")\n",
    "cvparser._voices = pd.concat([df_majority_downsampled, df_minority])\n",
    "\"\"\""
   ]
  },
  {
   "cell_type": "code",
   "execution_count": null,
   "id": "0af8ca41",
   "metadata": {},
   "outputs": [],
   "source": []
  },
  {
   "cell_type": "code",
   "execution_count": null,
   "id": "3d520beb",
   "metadata": {},
   "outputs": [],
   "source": []
  },
  {
   "cell_type": "code",
   "execution_count": null,
   "id": "c1defa14",
   "metadata": {},
   "outputs": [],
   "source": []
  }
 ],
 "metadata": {
  "kernelspec": {
   "display_name": "age_by_voice",
   "language": "python",
   "name": "age_by_voice"
  },
  "language_info": {
   "codemirror_mode": {
    "name": "ipython",
    "version": 3
   },
   "file_extension": ".py",
   "mimetype": "text/x-python",
   "name": "python",
   "nbconvert_exporter": "python",
   "pygments_lexer": "ipython3",
   "version": "3.10.16"
  }
 },
 "nbformat": 4,
 "nbformat_minor": 5
}
