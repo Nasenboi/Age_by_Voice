{
 "cells": [
  {
   "cell_type": "markdown",
   "id": "7a03af6f",
   "metadata": {},
   "source": [
    "# Gender Classification\n",
    "Train a simple gender classification model.\n",
    "The model will guess either male or female by the given 88 GeMAPS features."
   ]
  },
  {
   "cell_type": "code",
   "execution_count": 1,
   "id": "3bd812ed",
   "metadata": {},
   "outputs": [],
   "source": [
    "# Imports\n",
    "# Python packages\n",
    "import numpy as np\n",
    "import matplotlib.pyplot as plt\n",
    "\n",
    "# Custom package\n",
    "import sys\n",
    "from pathlib import Path\n",
    "sys.path.append(str(Path().resolve().parent / \"src\"))\n",
    "from age_by_voice.dataset_prep.dataset_preparator import Dataset_Perparator"
   ]
  },
  {
   "cell_type": "code",
   "execution_count": 2,
   "id": "e27f3659",
   "metadata": {},
   "outputs": [],
   "source": [
    "voices_path = \"/home/chr1s/Dokumente/github/Programming/Python/Age_by_Voice/data/csv_saves/save_voices_24000.csv\"\n",
    "features_path = \"/home/chr1s/Dokumente/github/Programming/Python/Age_by_Voice/data/csv_saves/save_features_24000.csv\""
   ]
  },
  {
   "cell_type": "code",
   "execution_count": 3,
   "id": "c2365ba6",
   "metadata": {},
   "outputs": [],
   "source": [
    "data_prep = Dataset_Perparator(voices_path, features_path)"
   ]
  },
  {
   "cell_type": "code",
   "execution_count": 4,
   "id": "2d081a08",
   "metadata": {},
   "outputs": [
    {
     "data": {
      "text/plain": [
       "<Axes: xlabel='voice_gender'>"
      ]
     },
     "execution_count": 4,
     "metadata": {},
     "output_type": "execute_result"
    },
    {
     "data": {
      "image/png": "[encoded data removed]",
      "text/plain": [
       "<Figure size 640x480 with 1 Axes>"
      ]
     },
     "metadata": {},
     "output_type": "display_data"
    }
   ],
   "source": [
    "# plot the gender count\n",
    "data_prep.voices.voice_gender.value_counts().plot(kind='bar')"
   ]
  },
  {
   "cell_type": "code",
   "execution_count": 5,
   "id": "92c0a511",
   "metadata": {},
   "outputs": [
    {
     "ename": "ValueError",
     "evalue": "Length mismatch after balancing: voices (8854) and features (11214)",
     "output_type": "error",
     "traceback": [
      "\u001b[0;31m---------------------------------------------------------------------------\u001b[0m",
      "\u001b[0;31mValueError\u001b[0m                                Traceback (most recent call last)",
      "Cell \u001b[0;32mIn[5], line 1\u001b[0m\n\u001b[0;32m----> 1\u001b[0m X_train, X_test, y_train, y_test \u001b[38;5;241m=\u001b[39m \u001b[43mdata_prep\u001b[49m\u001b[38;5;241;43m.\u001b[39;49m\u001b[43mprepare_gender_dataset\u001b[49m\u001b[43m(\u001b[49m\u001b[43m)\u001b[49m\n",
      "File \u001b[0;32m~/Dokumente/github/Programming/Python/Age_by_Voice/src/age_by_voice/dataset_prep/dataset_preparator.py:41\u001b[0m, in \u001b[0;36mDataset_Perparator.prepare_gender_dataset\u001b[0;34m(self, test_size)\u001b[0m\n\u001b[1;32m     31\u001b[0m \u001b[38;5;250m\u001b[39m\u001b[38;5;124;03m\"\"\"\u001b[39;00m\n\u001b[1;32m     32\u001b[0m \u001b[38;5;124;03mprepares the dataset for gender classification.\u001b[39;00m\n\u001b[1;32m     33\u001b[0m \u001b[38;5;124;03mThe features (X) dataframe contains the 88 features from the GeMAPS feature The labels (y) dataframe contains a column for each gender (either male [1, 0] or female [0, 1])\u001b[39;00m\n\u001b[0;32m   (...)\u001b[0m\n\u001b[1;32m     38\u001b[0m \u001b[38;5;124;03m    list: List of tuples containing the features and labels in a train/test split.\u001b[39;00m\n\u001b[1;32m     39\u001b[0m \u001b[38;5;124;03m\"\"\"\u001b[39;00m\n\u001b[1;32m     40\u001b[0m \u001b[38;5;66;03m# Check the balance of the labels (voices.voice_gender should have an equal amount of m and f)\u001b[39;00m\n\u001b[0;32m---> 41\u001b[0m \u001b[38;5;28;43mself\u001b[39;49m\u001b[38;5;241;43m.\u001b[39;49m\u001b[43m_check_balance\u001b[49m\u001b[43m(\u001b[49m\u001b[43mfeature\u001b[49m\u001b[38;5;241;43m=\u001b[39;49m\u001b[38;5;124;43m\"\u001b[39;49m\u001b[38;5;124;43mgender\u001b[39;49m\u001b[38;5;124;43m\"\u001b[39;49m\u001b[43m)\u001b[49m\n\u001b[1;32m     42\u001b[0m \u001b[38;5;66;03m# create y labels: [1, 0] if male, [0, 1] if female:\u001b[39;00m\n\u001b[1;32m     43\u001b[0m y \u001b[38;5;241m=\u001b[39m \u001b[38;5;28mself\u001b[39m\u001b[38;5;241m.\u001b[39m_get_y(feature\u001b[38;5;241m=\u001b[39m\u001b[38;5;124m\"\u001b[39m\u001b[38;5;124mgender\u001b[39m\u001b[38;5;124m\"\u001b[39m)\n",
      "File \u001b[0;32m~/Dokumente/github/Programming/Python/Age_by_Voice/src/age_by_voice/dataset_prep/dataset_preparator.py:112\u001b[0m, in \u001b[0;36mDataset_Perparator._check_balance\u001b[0;34m(self, feature)\u001b[0m\n\u001b[1;32m    110\u001b[0m \u001b[38;5;66;03m# Ensure consistent lengths after balancing\u001b[39;00m\n\u001b[1;32m    111\u001b[0m \u001b[38;5;28;01mif\u001b[39;00m \u001b[38;5;28mlen\u001b[39m(balanced_voices) \u001b[38;5;241m!=\u001b[39m \u001b[38;5;28mlen\u001b[39m(balanced_features):\n\u001b[0;32m--> 112\u001b[0m     \u001b[38;5;28;01mraise\u001b[39;00m \u001b[38;5;167;01mValueError\u001b[39;00m(\n\u001b[1;32m    113\u001b[0m         \u001b[38;5;124mf\u001b[39m\u001b[38;5;124m\"\u001b[39m\u001b[38;5;124mLength mismatch after balancing: voices (\u001b[39m\u001b[38;5;132;01m{\u001b[39;00m\u001b[38;5;28mlen\u001b[39m(balanced_voices)\u001b[38;5;132;01m}\u001b[39;00m\u001b[38;5;124m) and features (\u001b[39m\u001b[38;5;132;01m{\u001b[39;00m\u001b[38;5;28mlen\u001b[39m(balanced_features)\u001b[38;5;132;01m}\u001b[39;00m\u001b[38;5;124m)\u001b[39m\u001b[38;5;124m\"\u001b[39m\n\u001b[1;32m    114\u001b[0m     )\n\u001b[1;32m    116\u001b[0m \u001b[38;5;28mself\u001b[39m\u001b[38;5;241m.\u001b[39mvoices \u001b[38;5;241m=\u001b[39m balanced_voices\n\u001b[1;32m    117\u001b[0m \u001b[38;5;28mself\u001b[39m\u001b[38;5;241m.\u001b[39mfeatures \u001b[38;5;241m=\u001b[39m balanced_features\n",
      "\u001b[0;31mValueError\u001b[0m: Length mismatch after balancing: voices (8854) and features (11214)"
     ]
    }
   ],
   "source": [
    "X_train, X_test, y_train, y_test = data_prep.prepare_gender_dataset()"
   ]
  },
  {
   "cell_type": "code",
   "execution_count": 6,
   "id": "a7b58c8f",
   "metadata": {},
   "outputs": [
    {
     "name": "stdout",
     "output_type": "stream",
     "text": [
      "Voices clip_id unique: False\n",
      "Features clip_id unique: False\n"
     ]
    }
   ],
   "source": [
    "# Verify if clip_id is unique in voices and features\n",
    "print(\"Voices clip_id unique:\", data_prep.voices['clip_id'].is_unique)\n",
    "print(\"Features clip_id unique:\", data_prep.features['clip_id'].is_unique)"
   ]
  },
  {
   "cell_type": "code",
   "execution_count": null,
   "id": "b2da394f",
   "metadata": {},
   "outputs": [],
   "source": []
  }
 ],
 "metadata": {
  "kernelspec": {
   "display_name": "age_by_voice",
   "language": "python",
   "name": "age_by_voice"
  },
  "language_info": {
   "codemirror_mode": {
    "name": "ipython",
    "version": 3
   },
   "file_extension": ".py",
   "mimetype": "text/x-python",
   "name": "python",
   "nbconvert_exporter": "python",
   "pygments_lexer": "ipython3",
   "version": "3.10.16"
  }
 },
 "nbformat": 4,
 "nbformat_minor": 5
}
