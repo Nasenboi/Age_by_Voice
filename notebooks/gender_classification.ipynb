{
 "cells": [
  {
   "cell_type": "markdown",
   "id": "7a03af6f",
   "metadata": {},
   "source": [
    "# Gender Classification\n",
    "Train a simple gender classification model.\n",
    "The model will guess either male or female by the given 88 GeMAPS features."
   ]
  },
  {
   "cell_type": "code",
   "execution_count": null,
   "id": "3bd812ed",
   "metadata": {},
   "outputs": [],
   "source": [
    "# Imports\n",
    "# Python packages\n",
    "import os\n",
    "import numpy as np\n",
    "import matplotlib.pyplot as plt\n",
    "# Logic Regression\n",
    "from sklearn.linear_model import LogisticRegression\n",
    "from sklearn.metrics import confusion_matrix\n",
    "from sklearn.model_selection import train_test_split\n",
    "from sklearn.tree import plot_tree, DecisionTreeClassifier\n",
    "# play audio\n",
    "import IPython.display as ipd\n",
    "import seaborn as sns\n",
    "\n",
    "# Custom package\n",
    "import sys\n",
    "from pathlib import Path\n",
    "sys.path.append(str(Path().resolve().parent / \"src\"))\n",
    "from age_by_voice.dataset_prep.dataset_preparator import Dataset_Perparator"
   ]
  },
  {
   "cell_type": "code",
   "execution_count": null,
   "id": "1986cdc7",
   "metadata": {},
   "outputs": [],
   "source": [
    "rand_state = 420"
   ]
  },
  {
   "cell_type": "code",
   "execution_count": null,
   "id": "e27f3659",
   "metadata": {},
   "outputs": [],
   "source": [
    "voices_path = \"/home/chr1s/Dokumente/github/Programming/Python/Age_by_Voice/data/csv_saves/custom_features/save_voices_4000.csv\"\n",
    "features_path = \"/home/chr1s/Dokumente/github/Programming/Python/Age_by_Voice/data/csv_saves/custom_features/save_features_4000.csv\"\n",
    "audio_path = \"/home/chr1s/Downloads/cv-corpus-21.0-2025-03-14/en/clips/\""
   ]
  },
  {
   "cell_type": "code",
   "execution_count": null,
   "id": "c2365ba6",
   "metadata": {},
   "outputs": [],
   "source": [
    "data_prep = Dataset_Perparator(voices_path, features_path)\n",
    "data_prep.check_balance(feature=\"gender\")"
   ]
  },
  {
   "cell_type": "code",
   "execution_count": null,
   "id": "d2f2deb5",
   "metadata": {},
   "outputs": [],
   "source": [
    "# play random audio file\n",
    "file = data_prep.voices.audio_file_name.sample(1).values[0]\n",
    "file_path = os.path.join(audio_path, file)\n",
    "\n",
    "ipd.Audio(file_path)  # Play the audio file"
   ]
  },
  {
   "cell_type": "code",
   "execution_count": null,
   "id": "92c0a511",
   "metadata": {},
   "outputs": [],
   "source": [
    "# Analyze the data\n",
    "data = data_prep.features.copy()\n",
    "data = data.drop(columns=[\"clip_id\"])\n",
    "data[\"gender\"] = data_prep.voices[\"voice_gender\"].map({'m': 1, 'f': 0})"
   ]
  },
  {
   "cell_type": "code",
   "execution_count": null,
   "id": "a7b58c8f",
   "metadata": {},
   "outputs": [],
   "source": [
    "sns.heatmap(data.corr(), fmt=\".2f\", cmap=\"coolwarm\")"
   ]
  },
  {
   "cell_type": "code",
   "execution_count": null,
   "id": "b2da394f",
   "metadata": {},
   "outputs": [],
   "source": [
    "data.info()\n",
    "data.describe()"
   ]
  },
  {
   "cell_type": "code",
   "execution_count": null,
   "id": "48260833",
   "metadata": {},
   "outputs": [],
   "source": [
    "# plot the gender count\n",
    "data_prep.voices.voice_gender.value_counts().plot(kind='bar')"
   ]
  },
  {
   "cell_type": "code",
   "execution_count": null,
   "id": "6edacc87",
   "metadata": {},
   "outputs": [],
   "source": [
    "X = data.drop(columns=[\"gender\"])\n",
    "y = data[\"gender\"]"
   ]
  },
  {
   "cell_type": "code",
   "execution_count": null,
   "id": "2b75ed84",
   "metadata": {},
   "outputs": [],
   "source": [
    "X_train, X_test, y_train, y_test = train_test_split(X, y, test_size=0.05, random_state=rand_state)"
   ]
  },
  {
   "cell_type": "code",
   "execution_count": null,
   "id": "f4cfab2a",
   "metadata": {},
   "outputs": [],
   "source": [
    "X_train.shape"
   ]
  },
  {
   "cell_type": "code",
   "execution_count": null,
   "id": "9fc463a0",
   "metadata": {},
   "outputs": [],
   "source": [
    "model = DecisionTreeClassifier(max_depth=20, random_state=rand_state)"
   ]
  },
  {
   "cell_type": "code",
   "execution_count": null,
   "id": "acf1386a",
   "metadata": {},
   "outputs": [],
   "source": [
    "model.fit(X_train, y_train)"
   ]
  },
  {
   "cell_type": "code",
   "execution_count": null,
   "id": "c8d10ffb",
   "metadata": {},
   "outputs": [],
   "source": [
    "# train confusion matrix\n",
    "y_train_pred = model.predict(X_train)\n",
    "confusion_matrix(y_train, y_train_pred) / y_train.shape[0]"
   ]
  },
  {
   "cell_type": "code",
   "execution_count": null,
   "id": "28e21a73",
   "metadata": {},
   "outputs": [],
   "source": [
    "# test confusion matrix\n",
    "y_test_pred = model.predict(X_test)\n",
    "confusion_matrix(y_test, y_test_pred) / y_test.shape[0]"
   ]
  },
  {
   "cell_type": "code",
   "execution_count": null,
   "id": "136e5205",
   "metadata": {},
   "outputs": [],
   "source": [
    "fig = plt.figure(figsize=(20, 10))\n",
    "plot_tree(model, feature_names=X.columns, class_names=[\"f\", \"m\"], filled=True)\n",
    "\n",
    "plt.show()"
   ]
  },
  {
   "cell_type": "code",
   "execution_count": null,
   "id": "03c927ba",
   "metadata": {},
   "outputs": [],
   "source": []
  }
 ],
 "metadata": {
  "kernelspec": {
   "display_name": "age_by_voice",
   "language": "python",
   "name": "age_by_voice"
  },
  "language_info": {
   "codemirror_mode": {
    "name": "ipython",
    "version": 3
   },
   "file_extension": ".py",
   "mimetype": "text/x-python",
   "name": "python",
   "nbconvert_exporter": "python",
   "pygments_lexer": "ipython3",
   "version": "3.10.16"
  }
 },
 "nbformat": 4,
 "nbformat_minor": 5
}
