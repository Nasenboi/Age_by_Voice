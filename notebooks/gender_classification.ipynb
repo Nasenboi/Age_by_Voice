{
 "cells": [
  {
   "cell_type": "markdown",
   "id": "7a03af6f",
   "metadata": {},
   "source": [
    "# Gender Classification\n",
    "Train a simple gender classification model.\n",
    "The model will guess either male or female by the given 88 GeMAPS features."
   ]
  },
  {
   "cell_type": "code",
   "execution_count": null,
   "id": "3bd812ed",
   "metadata": {},
   "outputs": [],
   "source": [
    "# Imports\n",
    "# Python packages\n",
    "import os\n",
    "import numpy as np\n",
    "import pandas as pd\n",
    "import matplotlib.pyplot as plt\n",
    "\n",
    "from sklearn.linear_model import LogisticRegression\n",
    "from sklearn.metrics import confusion_matrix\n",
    "from sklearn.model_selection import train_test_split\n",
    "from sklearn.tree import plot_tree, DecisionTreeClassifier\n",
    "\n",
    "import tensorflow as tf\n",
    "from keras import Sequential, layers\n",
    "import shap\n",
    "\n",
    "import IPython.display as ipd\n",
    "import seaborn as sns\n",
    "\n",
    "# Custom package\n",
    "import sys\n",
    "from pathlib import Path\n",
    "sys.path.append(str(Path().resolve().parent / \"src\"))\n",
    "from age_by_voice.dataset_prep.dataset_preparator import Dataset_Perparator"
   ]
  },
  {
   "cell_type": "code",
   "execution_count": null,
   "id": "1986cdc7",
   "metadata": {},
   "outputs": [],
   "source": [
    "rand_state = 420"
   ]
  },
  {
   "cell_type": "code",
   "execution_count": null,
   "id": "e27f3659",
   "metadata": {},
   "outputs": [],
   "source": [
    "voices_path = \"/home/chr1s/Dokumente/github/Programming/Python/Age_by_Voice/data/csv_saves/compare/save_voices_14000.csv\"\n",
    "features_path = \"/home/chr1s/Dokumente/github/Programming/Python/Age_by_Voice/data/csv_saves/compare/save_features_14000.csv\"\n",
    "audio_path = \"/home/chr1s/Downloads/cv-corpus-21.0-2025-03-14/en/clips/\""
   ]
  },
  {
   "cell_type": "code",
   "execution_count": null,
   "id": "c2365ba6",
   "metadata": {},
   "outputs": [],
   "source": [
    "data_prep = Dataset_Perparator(voices_path, features_path) # , normalize=True\n",
    "data_prep.check_balance(feature=\"gender\")"
   ]
  },
  {
   "cell_type": "code",
   "execution_count": null,
   "id": "d2f2deb5",
   "metadata": {},
   "outputs": [],
   "source": [
    "# play random audio file\n",
    "file = data_prep.voices.audio_file_name.sample(1).values[0]\n",
    "file_path = os.path.join(audio_path, file)\n",
    "\n",
    "ipd.Audio(file_path)  # Play the audio file"
   ]
  },
  {
   "cell_type": "code",
   "execution_count": null,
   "id": "92c0a511",
   "metadata": {},
   "outputs": [],
   "source": [
    "# Analyze the data\n",
    "data = data_prep.features.copy()\n",
    "data = data.drop(columns=[\"clip_id\"])\n",
    "data[\"gender\"] = data_prep.voices[\"voice_gender\"].map({'m': 1, 'f': 0})"
   ]
  },
  {
   "cell_type": "raw",
   "id": "a7b58c8f",
   "metadata": {
    "vscode": {
     "languageId": "raw"
    }
   },
   "source": [
    "sns.heatmap(data.corr(), fmt=\".2f\", cmap=\"coolwarm\")"
   ]
  },
  {
   "cell_type": "code",
   "execution_count": null,
   "id": "b2da394f",
   "metadata": {},
   "outputs": [],
   "source": [
    "data.info()\n",
    "data.describe()"
   ]
  },
  {
   "cell_type": "code",
   "execution_count": null,
   "id": "48260833",
   "metadata": {},
   "outputs": [],
   "source": [
    "# plot the gender count\n",
    "data_prep.voices.voice_gender.value_counts().plot(kind='bar')"
   ]
  },
  {
   "cell_type": "code",
   "execution_count": null,
   "id": "6edacc87",
   "metadata": {},
   "outputs": [],
   "source": [
    "X = data.drop(columns=[\"gender\"])\n",
    "y = data[\"gender\"]"
   ]
  },
  {
   "cell_type": "code",
   "execution_count": null,
   "id": "2b75ed84",
   "metadata": {},
   "outputs": [],
   "source": [
    "X_train, X_test, y_train, y_test = train_test_split(X, y, test_size=0.1, random_state=rand_state)"
   ]
  },
  {
   "cell_type": "code",
   "execution_count": null,
   "id": "f4cfab2a",
   "metadata": {},
   "outputs": [],
   "source": [
    "X_train.shape"
   ]
  },
  {
   "cell_type": "code",
   "execution_count": null,
   "id": "9fc463a0",
   "metadata": {},
   "outputs": [],
   "source": [
    "tree = DecisionTreeClassifier(max_depth=15, random_state=rand_state)"
   ]
  },
  {
   "cell_type": "code",
   "execution_count": null,
   "id": "acf1386a",
   "metadata": {},
   "outputs": [],
   "source": [
    "tree.fit(X_train, y_train)"
   ]
  },
  {
   "cell_type": "code",
   "execution_count": null,
   "id": "87d1c9f4",
   "metadata": {},
   "outputs": [],
   "source": [
    "# Model Score\n",
    "print(f\"Train score: {tree.score(X_train, y_train)}\")\n",
    "print(f\"Test score: {tree.score(X_test, y_test)}\")"
   ]
  },
  {
   "cell_type": "code",
   "execution_count": null,
   "id": "c8d10ffb",
   "metadata": {},
   "outputs": [],
   "source": [
    "# train confusion matrix\n",
    "y_train_pred = tree.predict(X_train)\n",
    "confusion_matrix(y_train, y_train_pred) / y_train.shape[0]"
   ]
  },
  {
   "cell_type": "code",
   "execution_count": null,
   "id": "28e21a73",
   "metadata": {},
   "outputs": [],
   "source": [
    "# test confusion matrix\n",
    "y_test_pred = tree.predict(X_test)\n",
    "confusion_matrix(y_test, y_test_pred) / y_test.shape[0]"
   ]
  },
  {
   "cell_type": "raw",
   "id": "136e5205",
   "metadata": {
    "vscode": {
     "languageId": "raw"
    }
   },
   "source": [
    "fig = plt.figure(figsize=(20, 10))\n",
    "plot_tree(tree, feature_names=X.columns, class_names=[\"f\", \"m\"], filled=True)\n",
    "\n",
    "plt.show()"
   ]
  },
  {
   "cell_type": "code",
   "execution_count": null,
   "id": "03c927ba",
   "metadata": {},
   "outputs": [],
   "source": [
    "logreg = LogisticRegression(random_state=rand_state)\n",
    "logreg.fit(X_train, y_train)"
   ]
  },
  {
   "cell_type": "code",
   "execution_count": null,
   "id": "7e5e0179",
   "metadata": {},
   "outputs": [],
   "source": [
    "# train confusion matrix\n",
    "y_train_pred = logreg.predict(X_train)\n",
    "confusion_matrix(y_train, y_train_pred) / y_train.shape[0]"
   ]
  },
  {
   "cell_type": "code",
   "execution_count": null,
   "id": "8f389388",
   "metadata": {},
   "outputs": [],
   "source": [
    "# test confusion matrix\n",
    "y_test_pred = logreg.predict(X_test)\n",
    "confusion_matrix(y_test, y_test_pred) / y_test.shape[0]"
   ]
  },
  {
   "cell_type": "code",
   "execution_count": null,
   "id": "0e94eb20",
   "metadata": {},
   "outputs": [],
   "source": [
    "# Model Score\n",
    "print(f\"Train score: {logreg.score(X_train, y_train)}\")\n",
    "print(f\"Test score: {logreg.score(X_test, y_test)}\")"
   ]
  },
  {
   "cell_type": "code",
   "execution_count": null,
   "id": "845969a7",
   "metadata": {},
   "outputs": [],
   "source": [
    "data_prep = Dataset_Perparator(voices_path, features_path, normalize=True)\n",
    "data_prep.check_balance(feature=\"gender\")\n",
    "data = data_prep.features.copy()\n",
    "data = data.drop(columns=[\"clip_id\"])\n",
    "data[\"gender\"] = data_prep.voices[\"voice_gender\"].map({'m': 1, 'f': 0})\n",
    "X = data.drop(columns=[\"gender\"])\n",
    "y = pd.DataFrame()\n",
    "y['m'] = data['gender']\n",
    "y['f'] = 1 - data['gender'] \n",
    "\n",
    "X_train, X_test, y_train, y_test = train_test_split(X, y, test_size=0.1, random_state=rand_state)"
   ]
  },
  {
   "cell_type": "code",
   "execution_count": null,
   "id": "f34b3a5d",
   "metadata": {},
   "outputs": [],
   "source": [
    "# DNN Model\n",
    "model = Sequential([\n",
    "    layers.Input(shape=(X_train.shape[1],)),\n",
    "    layers.Dense(2048, activation='relu'),\n",
    "    layers.Dropout(0.2),\n",
    "    layers.Dense(1024, activation='relu'),\n",
    "    layers.Dropout(0.2),\n",
    "    layers.Dense(512, activation='relu'),\n",
    "    layers.Dropout(0.2),\n",
    "    layers.Dense(256, activation='relu'),\n",
    "    layers.Dropout(0.2),\n",
    "    layers.Dense(128, activation='relu'),\n",
    "    layers.Dropout(0.2),\n",
    "    layers.Dense(32, activation='relu'),\n",
    "    layers.Dropout(0.2),\n",
    "    layers.Dense(16, activation='relu'),\n",
    "    layers.Dropout(0.2),\n",
    "    layers.Dense(2, activation='sigmoid')\n",
    "])\n",
    "model.compile(optimizer='adam', loss='binary_crossentropy', metrics=['accuracy'])"
   ]
  },
  {
   "cell_type": "code",
   "execution_count": null,
   "id": "4f380479",
   "metadata": {},
   "outputs": [],
   "source": [
    "history = model.fit(X_train, y_train, epochs=100, batch_size=50, validation_split=0.2)"
   ]
  },
  {
   "cell_type": "code",
   "execution_count": null,
   "id": "ff0409bc",
   "metadata": {},
   "outputs": [],
   "source": [
    "# Model Score\n",
    "\n",
    "print(f\"Train score: {model.evaluate(X_train, y_train)[1]}\")\n",
    "print(f\"Test score: {model.evaluate(X_test, y_test)[1]}\")"
   ]
  },
  {
   "cell_type": "code",
   "execution_count": null,
   "id": "0b2feee0",
   "metadata": {},
   "outputs": [],
   "source": [
    "rand_voice = data_prep.voices.sample(1)\n",
    "print(f\"Clip ID: {rand_voice.clip_id.values[0]}, Gender:  {rand_voice.voice_gender.values[0]}\")\n",
    "file_path = os.path.join(audio_path, rand_voice.audio_file_name.values[0])\n",
    "\n",
    "ipd.Audio(file_path)\n",
    "\n"
   ]
  },
  {
   "cell_type": "code",
   "execution_count": null,
   "id": "8eb1ff92",
   "metadata": {},
   "outputs": [],
   "source": []
  }
 ],
 "metadata": {
  "kernelspec": {
   "display_name": "age_by_voice",
   "language": "python",
   "name": "age_by_voice"
  },
  "language_info": {
   "codemirror_mode": {
    "name": "ipython",
    "version": 3
   },
   "file_extension": ".py",
   "mimetype": "text/x-python",
   "name": "python",
   "nbconvert_exporter": "python",
   "pygments_lexer": "ipython3",
   "version": "3.10.16"
  }
 },
 "nbformat": 4,
 "nbformat_minor": 5
}
