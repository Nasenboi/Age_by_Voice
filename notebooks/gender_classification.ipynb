{
 "cells": [
  {
   "cell_type": "markdown",
   "id": "7a03af6f",
   "metadata": {},
   "source": [
    "# Gender Classification\n",
    "Train a simple gender classification model.\n",
    "The model will guess either male or female by the given 88 GeMAPS features."
   ]
  },
  {
   "cell_type": "code",
   "execution_count": null,
   "id": "3bd812ed",
   "metadata": {},
   "outputs": [],
   "source": [
    "# Imports\n",
    "# Python packages\n",
    "import os\n",
    "import numpy as np\n",
    "import pandas as pd\n",
    "import matplotlib.pyplot as plt\n",
    "\n",
    "from sklearn.linear_model import LogisticRegression\n",
    "from sklearn.metrics import confusion_matrix, accuracy_score\n",
    "from sklearn.model_selection import train_test_split\n",
    "from sklearn.ensemble import RandomForestClassifier\n",
    "from sklearn.model_selection import GridSearchCV\n",
    "\n",
    "import shap\n",
    "\n",
    "import IPython.display as ipd\n",
    "import seaborn as sns"
   ]
  },
  {
   "cell_type": "code",
   "execution_count": null,
   "id": "1986cdc7",
   "metadata": {},
   "outputs": [],
   "source": [
    "rand_state = 10"
   ]
  },
  {
   "cell_type": "markdown",
   "id": "707a3bac",
   "metadata": {},
   "source": [
    "# Load the data\n",
    "First we need the dataset we're going to work on.\n",
    "Get the dataframes by the local csvs and merge them into a df we can work with for ml"
   ]
  },
  {
   "cell_type": "code",
   "execution_count": null,
   "id": "e27f3659",
   "metadata": {},
   "outputs": [],
   "source": [
    "voices_path = \"../data/csv_saves/gemaps/voices.csv\"\n",
    "features_path = \"../data/csv_saves/gemaps/features.csv\"\n",
    "audio_path = \"/home/chr1s/Downloads/cv-corpus-21.0-2025-03-14/en/clips/\""
   ]
  },
  {
   "cell_type": "code",
   "execution_count": null,
   "id": "8eb1ff92",
   "metadata": {},
   "outputs": [],
   "source": [
    "voices = pd.read_csv(voices_path)\n",
    "features = pd.read_csv(features_path)\n",
    "voices.head()"
   ]
  },
  {
   "cell_type": "code",
   "execution_count": null,
   "id": "949c7602",
   "metadata": {},
   "outputs": [],
   "source": [
    "# Merge voices and features by the column \"clip_id\"\n",
    "data = pd.merge(voices[[\"clip_id\", \"voice_gender\"]], features, on=\"clip_id\")\n",
    "data.set_index(\"clip_id\", inplace=True)\n",
    "del voices"
   ]
  },
  {
   "cell_type": "code",
   "execution_count": null,
   "id": "4a04c185",
   "metadata": {},
   "outputs": [],
   "source": [
    "data.head()"
   ]
  },
  {
   "cell_type": "code",
   "execution_count": null,
   "id": "179f8bb8",
   "metadata": {},
   "outputs": [],
   "source": [
    "# turn gender into a binary variable\n",
    "data[\"voice_gender_m\"] = data[\"voice_gender\"].apply(lambda x: 1 if x == \"m\" else 0)\n",
    "data[\"voice_gender_f\"] = data[\"voice_gender\"].apply(lambda x: 1 if x == \"f\" else 0)\n",
    "data.drop(columns=\"voice_gender\", inplace=True)\n",
    "data.voice_gender_m.hist()"
   ]
  },
  {
   "cell_type": "markdown",
   "id": "1f5d4f37",
   "metadata": {},
   "source": [
    "# Understand data\n",
    "Next we need to get an even better understanding of the data..."
   ]
  },
  {
   "cell_type": "code",
   "execution_count": null,
   "id": "fbdedb59",
   "metadata": {},
   "outputs": [],
   "source": [
    "data.info()"
   ]
  },
  {
   "cell_type": "code",
   "execution_count": null,
   "id": "c8dcbe71",
   "metadata": {},
   "outputs": [],
   "source": [
    "data.describe()"
   ]
  },
  {
   "cell_type": "markdown",
   "id": "c3de05fa",
   "metadata": {},
   "source": [
    "#### Correlation\n",
    "Lets correllate the features with the gender.\n",
    "This gives us some basic informations which features could be relevant for gender detection."
   ]
  },
  {
   "cell_type": "code",
   "execution_count": null,
   "id": "5e3eb9f8",
   "metadata": {},
   "outputs": [],
   "source": [
    "\"\"\"\n",
    "corr = data.corr()\n",
    "target_cols = [\"voice_gender_m\", \"voice_gender_f\"]\n",
    "corr_with_targets = corr[target_cols]\n",
    "top_features = set()\n",
    "for col in target_cols:\n",
    "    abs_corr = corr_with_targets[col].abs().drop(target_cols, errors='ignore')\n",
    "    abs_corr = abs_corr[abs_corr < 1.0]\n",
    "    top_features.update(abs_corr.nlargest(10).index.tolist())\n",
    "top_features.update(target_cols)\n",
    "top_features_list = list(top_features)\n",
    "subset_corr = corr.loc[top_features_list, top_features_list]\n",
    "plt.figure(figsize=(12, 10))\n",
    "sns.heatmap(subset_corr, annot=True, fmt=\".2f\", cmap=\"coolwarm\", \n",
    "            vmin=-1, vmax=1, center=0)\n",
    "plt.title(\"Top Correlations with Voice Gender Features\")\n",
    "plt.tight_layout()\n",
    "plt.show()\n",
    "\"\"\""
   ]
  },
  {
   "cell_type": "code",
   "execution_count": null,
   "id": "2efcc881",
   "metadata": {},
   "outputs": [],
   "source": [
    "\"\"\"\n",
    "corr_table = corr_with_targets.loc[top_features_list].stack().reset_index()\n",
    "corr_table.columns = ['Feature', 'Gender', 'Correlation']\n",
    "corr_table['Abs_Correlation'] = corr_table['Correlation'].abs()\n",
    "corr_table = corr_table.sort_values('Abs_Correlation', ascending=False)\n",
    "display(corr_table[['Feature', 'Gender', 'Correlation']].style\n",
    "        .background_gradient(cmap='coolwarm', subset=['Correlation'])\n",
    "        .format({'Correlation': '{:.2f}'})\n",
    "        .set_caption('Top Correlations with Voice Gender Features'))\n",
    "\"\"\""
   ]
  },
  {
   "cell_type": "code",
   "execution_count": null,
   "id": "73a3645f",
   "metadata": {},
   "outputs": [],
   "source": []
  },
  {
   "cell_type": "markdown",
   "id": "ef935c56",
   "metadata": {},
   "source": [
    "#### Random Forest Classifier\n",
    "Lets create a random forest model to try classifing the gender by the audio features "
   ]
  },
  {
   "cell_type": "code",
   "execution_count": null,
   "id": "51d98924",
   "metadata": {},
   "outputs": [],
   "source": [
    "# create features and labels\n",
    "target_cols = [\"voice_gender_m\", \"voice_gender_f\"]\n",
    "X = data.drop(columns=target_cols)\n",
    "y = data[\"voice_gender_m\"]"
   ]
  },
  {
   "cell_type": "code",
   "execution_count": null,
   "id": "00bf0e71",
   "metadata": {},
   "outputs": [],
   "source": [
    "# Select features for grid search\n",
    "forest_feature_grid = {\n",
    "    \"n_estimators\": [10, 100, 1000],\n",
    "    \"max_depth\": [5, 10, 15],\n",
    "}"
   ]
  },
  {
   "cell_type": "code",
   "execution_count": null,
   "id": "a001f4af",
   "metadata": {},
   "outputs": [],
   "source": [
    "\"\"\"\n",
    "# grid search the best parameters\n",
    "forest = RandomForestClassifier(random_state=rand_state)\n",
    "forest_grid = GridSearchCV(forest, forest_feature_grid, verbose=2, cv=1)\n",
    "forest_grid.fit(X, y)\n",
    "\"\"\""
   ]
  },
  {
   "cell_type": "markdown",
   "id": "7c0638ae",
   "metadata": {},
   "source": [
    "#### Train a Random Forest with fitting parameters\n",
    "If I have time I'll promise to use GridSearch for this ^^\""
   ]
  },
  {
   "cell_type": "code",
   "execution_count": null,
   "id": "ab2a5a04",
   "metadata": {},
   "outputs": [],
   "source": [
    "target_cols = [\"voice_gender_m\", \"voice_gender_f\"]\n",
    "X = data.drop(columns=target_cols)\n",
    "y = data[\"voice_gender_m\"]"
   ]
  },
  {
   "cell_type": "code",
   "execution_count": null,
   "id": "d1e1333a",
   "metadata": {},
   "outputs": [],
   "source": [
    "X_train, X_test, y_train, y_test = train_test_split(X, y, test_size=0.2, random_state=rand_state)"
   ]
  },
  {
   "cell_type": "code",
   "execution_count": null,
   "id": "c87bed44",
   "metadata": {},
   "outputs": [],
   "source": [
    "forest = RandomForestClassifier(\n",
    "    n_estimators=500,\n",
    "    max_depth=5,\n",
    "    random_state=rand_state,\n",
    ")\n",
    "forest.fit(X_train, y_train)"
   ]
  },
  {
   "cell_type": "code",
   "execution_count": null,
   "id": "1bc671b1",
   "metadata": {},
   "outputs": [],
   "source": [
    "y_train_pred = forest.predict(X_train)\n",
    "y_train_pred_proba = forest.predict_proba(X_train)[:, 1]\n",
    "y_test_pred = forest.predict(X_test)\n",
    "y_test_pred_proba = forest.predict_proba(X_test)[:, 1]\n",
    "\n",
    "print(f\"Train Accuracy: {accuracy_score(y_train, y_train_pred):.4f}\")\n",
    "print(f\"Test Accuracy: {accuracy_score(y_test, y_test_pred):.4f}\")"
   ]
  },
  {
   "cell_type": "code",
   "execution_count": null,
   "id": "072074d9",
   "metadata": {},
   "outputs": [],
   "source": [
    "(y_test - y_test_pred_proba).abs().describe()"
   ]
  },
  {
   "cell_type": "code",
   "execution_count": null,
   "id": "c373f65c",
   "metadata": {},
   "outputs": [],
   "source": [
    "feature_importances = pd.DataFrame(forest.feature_importances_, columns=[\"feature_importance\"], index=X_train.columns)\n",
    "feature_importances.sort_values(by=\"feature_importance\", ascending=False, inplace=True)\n",
    "feature_importances"
   ]
  },
  {
   "cell_type": "markdown",
   "id": "1c433cc6",
   "metadata": {},
   "source": [
    "# Time for SHAP!\n",
    "Lets see what the model thinks about features! "
   ]
  },
  {
   "cell_type": "code",
   "execution_count": null,
   "id": "a8c12611",
   "metadata": {},
   "outputs": [],
   "source": [
    "i = 10\n",
    "clip_id = X_test.index[i]\n",
    "print(clip_id)\n",
    "print(X_test.loc[clip_id,:], \"\\n\")\n",
    "print(f\"Model prediction: {y_test_pred[i]}, probability: {y_test_pred_proba[i]:.4f}, true label: {y_test.iloc[i]}\")"
   ]
  },
  {
   "cell_type": "code",
   "execution_count": null,
   "id": "60495935",
   "metadata": {},
   "outputs": [],
   "source": [
    "explainer = shap.TreeExplainer(forest)\n",
    "shap_values = explainer.shap_values(X_test.iloc[i])"
   ]
  },
  {
   "cell_type": "code",
   "execution_count": null,
   "id": "22483b49",
   "metadata": {},
   "outputs": [],
   "source": [
    "shap.force_plot(explainer.expected_value[1], shap_values[:, 1], feature_names=X_test.columns, matplotlib=True)"
   ]
  },
  {
   "cell_type": "code",
   "execution_count": null,
   "id": "0b3dc02e",
   "metadata": {},
   "outputs": [],
   "source": [
    "explainer = shap.Explainer(forest, X_train)\n",
    "shap_values = explainer(X_test[:1000], check_additivity=False)"
   ]
  },
  {
   "cell_type": "code",
   "execution_count": null,
   "id": "62ddc60e",
   "metadata": {},
   "outputs": [],
   "source": [
    "shap.plots.beeswarm(shap_values[:, :, 1])"
   ]
  },
  {
   "cell_type": "code",
   "execution_count": null,
   "id": "eb7adaa3",
   "metadata": {},
   "outputs": [],
   "source": []
  }
 ],
 "metadata": {
  "kernelspec": {
   "display_name": "age_by_voice",
   "language": "python",
   "name": "age_by_voice"
  },
  "language_info": {
   "codemirror_mode": {
    "name": "ipython",
    "version": 3
   },
   "file_extension": ".py",
   "mimetype": "text/x-python",
   "name": "python",
   "nbconvert_exporter": "python",
   "pygments_lexer": "ipython3",
   "version": "3.10.16"
  }
 },
 "nbformat": 4,
 "nbformat_minor": 5
}
