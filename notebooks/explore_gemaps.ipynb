{
 "cells": [
  {
   "cell_type": "markdown",
   "id": "72f96f25",
   "metadata": {},
   "source": [
    "# Explore GeMAPS\n",
    "Use this code to find out how the features of the GeMAPS feature set are extracted\n",
    "\n",
    "Most of the logic for this Notebook is hidden in the class \"Custom_GeMAPS\""
   ]
  },
  {
   "cell_type": "code",
   "execution_count": null,
   "id": "66a1d548",
   "metadata": {},
   "outputs": [],
   "source": [
    "# Imports\n",
    "# Python packages\n",
    "import numpy as np\n",
    "import matplotlib.pyplot as plt\n",
    "import IPython.display as ipd\n",
    "\n",
    "# Custom package\n",
    "import sys\n",
    "from pathlib import Path\n",
    "sys.path.append(str(Path().resolve().parent / \"src\"))\n",
    "from age_by_voice.audio.custom_gemaps import Custom_GeMAPS, GeMAPS_Settings"
   ]
  },
  {
   "cell_type": "markdown",
   "id": "fe458d3a",
   "metadata": {},
   "source": [
    "# Load an audiofile\n",
    "Load an audiofile into the Custom_GeMAPS class.\n",
    "Its best to use a Wave file.\n",
    "You can customize the samplerate.\n",
    "\n",
    "When the file is found the class has the sample_rate (sr) and the array of samples (y)."
   ]
  },
  {
   "cell_type": "code",
   "execution_count": null,
   "id": "05c912f9",
   "metadata": {},
   "outputs": [],
   "source": [
    "audio_path: str = \"/home/chr1s/Dokumente/github/Programming/Python/Age_by_Voice/data/awed5130.wav\"\n",
    "\n",
    "# play the audio\n",
    "ipd.Audio(audio_path, autoplay=True)"
   ]
  },
  {
   "cell_type": "code",
   "execution_count": null,
   "id": "1473036e",
   "metadata": {},
   "outputs": [],
   "source": [
    "custom_ge = Custom_GeMAPS(audio_path=audio_path)\n",
    "\n",
    "custom_ge.sr"
   ]
  },
  {
   "cell_type": "code",
   "execution_count": null,
   "id": "0e1dd4de",
   "metadata": {},
   "outputs": [],
   "source": [
    "# Plot the samples\n",
    "plt.figure(figsize=(12, 4))\n",
    "plt.plot(custom_ge.y)\n",
    "\n",
    "plt.title(\"Audio Signal\")\n",
    "plt.xlabel(\"Sample Number\")\n",
    "plt.ylabel(\"Amplitude\")"
   ]
  },
  {
   "cell_type": "code",
   "execution_count": null,
   "id": "cfa11f58",
   "metadata": {},
   "outputs": [],
   "source": [
    "# Plot a short timeframe of the audio signal \n",
    "plt.figure(figsize=(12, 4))\n",
    "length = 0.02 # lenghth of the timeframe in seconds\n",
    "offset = 0.5 # offset in seconds\n",
    "time_start = int(custom_ge.sr * offset)\n",
    "time_end = time_start + int(custom_ge.sr * length)\n",
    "plt.plot(custom_ge.y[time_start:time_end])\n",
    "\n",
    "plt.title(\"Audio Signal\")\n",
    "plt.xlabel(\"Sample Number\")\n",
    "plt.ylabel(\"Amplitude\")"
   ]
  },
  {
   "cell_type": "markdown",
   "id": "dc897f9e",
   "metadata": {},
   "source": [
    "# OpenSMILE Features\n",
    "\n",
    "Now lets inspect the features we get using the OpenSMILE library.\n",
    "We use the GeMAPS_V2 Feature set and get a Pandas Dataframe from the processed audio signal"
   ]
  },
  {
   "cell_type": "code",
   "execution_count": null,
   "id": "b0bbbf89",
   "metadata": {},
   "outputs": [],
   "source": [
    "smile = custom_ge.smile()\n",
    "smile = smile.T # turn 90 degrees"
   ]
  },
  {
   "cell_type": "code",
   "execution_count": null,
   "id": "bd85d7e0",
   "metadata": {},
   "outputs": [],
   "source": [
    "# Print the dataframe\n",
    "print(smile.to_string())"
   ]
  },
  {
   "cell_type": "markdown",
   "id": "e1a9e60d",
   "metadata": {},
   "source": [
    "# Into the Frequency domain!\n",
    "Visualize the audio file in the frequency domain using the spectrogram function of the Custom_GeMAPS class."
   ]
  },
  {
   "cell_type": "code",
   "execution_count": null,
   "id": "cb68a88d",
   "metadata": {},
   "outputs": [],
   "source": [
    "# The DFT\n",
    "offset = 0.2 # offset in seconds\n",
    "\n",
    "dft = custom_ge.dft(ts=offset, log_values=True)\n",
    "\n",
    "\n",
    "plt.figure(figsize=(12, 4))\n",
    "plt.plot(dft[:, 0], dft[:, 1])\n",
    "plt.title(\"DFT of Audio Signal\")\n",
    "plt.xlabel(\"Frequency (Hz)\")\n",
    "plt.ylabel(\"Magnitude (dB)\")"
   ]
  },
  {
   "cell_type": "code",
   "execution_count": null,
   "id": "9df3f49b",
   "metadata": {},
   "outputs": [],
   "source": [
    "# The Spectrogram\n",
    "\n",
    "spectrogram = custom_ge.spectrogram(log_values=True)\n",
    "\n",
    "plt.figure(figsize=(12, 4))\n",
    "plt.imshow(\n",
    "    spectrogram.T,\n",
    "    aspect=\"auto\",\n",
    "    origin=\"lower\",\n",
    "    extent=[0, custom_ge.y.shape[0] / custom_ge.sr, 0, custom_ge.sr / 2],\n",
    ")\n",
    "plt.title(\"Spectrogram\")\n",
    "plt.xlabel(\"Time (s)\")\n",
    "plt.ylabel(\"Frequency (Hz)\")"
   ]
  },
  {
   "cell_type": "code",
   "execution_count": null,
   "id": "dbb3f56e",
   "metadata": {},
   "outputs": [],
   "source": [
    "# Get F0\n",
    "f0_dict = custom_ge.f0()\n",
    "f0_mean = f0_dict[\"f0_mean\"]\n",
    "f0_stddev = f0_dict[\"f0_stddev\"]\n",
    "\n",
    "# print the f0 stats\n",
    "# print(f\"Mean F0: {f0_mean:.2f} Hz, STD: {f0_stddev:.2f} Hz\")\n",
    "print(f0_dict[\"pitch\"])"
   ]
  },
  {
   "cell_type": "code",
   "execution_count": null,
   "id": "1e8ffe97",
   "metadata": {},
   "outputs": [],
   "source": [
    "# Jitter\n",
    "jitter_dict = custom_ge.jitter()\n",
    "jitter_local = jitter_dict[\"jitter_local\"]\n",
    "jitter_local_absolute = jitter_dict[\"jitter_local_absolute\"]\n",
    "jitter_rap = jitter_dict[\"jitter_rap\"]\n",
    "\n",
    "# print the jitter stats\n",
    "print(f\"Jitter Local: {jitter_local:.5f}, Jitter Local Absolute: {jitter_local_absolute:.5f}, Jitter RAP: {jitter_rap:.5f}\")"
   ]
  },
  {
   "cell_type": "code",
   "execution_count": null,
   "id": "dfee27ed",
   "metadata": {},
   "outputs": [],
   "source": [
    "# Shimmer\n",
    "shimmer_dict = custom_ge.shimmer()\n",
    "\n",
    "print(f\"Shimmer Local DB: {shimmer_dict['shimmer_local_dB']:.5}\")"
   ]
  },
  {
   "cell_type": "code",
   "execution_count": null,
   "id": "634eda34",
   "metadata": {},
   "outputs": [],
   "source": []
  },
  {
   "cell_type": "code",
   "execution_count": null,
   "id": "670f4f41",
   "metadata": {},
   "outputs": [],
   "source": []
  }
 ],
 "metadata": {
  "kernelspec": {
   "display_name": "age_by_voice",
   "language": "python",
   "name": "age_by_voice"
  },
  "language_info": {
   "codemirror_mode": {
    "name": "ipython",
    "version": 3
   },
   "file_extension": ".py",
   "mimetype": "text/x-python",
   "name": "python",
   "nbconvert_exporter": "python",
   "pygments_lexer": "ipython3",
   "version": "3.10.16"
  }
 },
 "nbformat": 4,
 "nbformat_minor": 5
}
