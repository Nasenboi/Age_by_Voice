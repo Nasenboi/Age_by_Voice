{
 "cells": [
  {
   "cell_type": "markdown",
   "id": "72f96f25",
   "metadata": {},
   "source": [
    "# Explore GeMAPS\n",
    "Use this code to find out how the features of the GeMAPS feature set are extracted\n",
    "\n",
    "Most of the logic for this Notebook is hidden in the class \"Custom_GeMAPS\""
   ]
  },
  {
   "cell_type": "code",
   "execution_count": null,
   "id": "66a1d548",
   "metadata": {},
   "outputs": [],
   "source": [
    "# Imports\n",
    "# Python packages\n",
    "import numpy as np\n",
    "import matplotlib.pyplot as pltLK\n",
    "import IPython.display as ipd\n",
    "from opensmile import Smile, FeatureSet, FeatureLevel\n",
    "import librosa as lr\n",
    "import matplotlib.pyplot as plt\n",
    "import seaborn as sns\n",
    "import pandas as pd\n",
    "import scipy\n",
    "\n",
    "import os\n",
    "import random "
   ]
  },
  {
   "cell_type": "code",
   "execution_count": null,
   "id": "31b2de40",
   "metadata": {},
   "outputs": [],
   "source": [
    "audio_path = \"/home/chr1s/Downloads/cv-corpus-21.0-2025-03-14/en/clips/\""
   ]
  },
  {
   "cell_type": "markdown",
   "id": "fe458d3a",
   "metadata": {},
   "source": [
    "# Load an audiofile\n",
    "Load an audiofile into the Custom_GeMAPS class.\n",
    "Its best to use a Wave file.\n",
    "You can customize the samplerate.\n",
    "\n",
    "When the file is found the class has the sample_rate (sr) and the array of samples (y)."
   ]
  },
  {
   "cell_type": "code",
   "execution_count": null,
   "id": "05c912f9",
   "metadata": {},
   "outputs": [],
   "source": [
    "sr = 16_000 # This is the sample rate that egemaps also uses\n",
    "audio_file: str = os.path.join(audio_path, random.choice(os.listdir(audio_path)))\n",
    "y, sr = lr.load(audio_file, sr=sr)\n",
    "print(f\"Audio file: {audio_file}\")\n",
    "# play the audio\n",
    "ipd.Audio(filename=audio_file, autoplay=True)"
   ]
  },
  {
   "cell_type": "code",
   "execution_count": null,
   "id": "0e1dd4de",
   "metadata": {},
   "outputs": [],
   "source": [
    "# Plot the samples\n",
    "plt.figure(figsize=(12, 4))\n",
    "plt.plot(y)\n",
    "\n",
    "plt.title(\"Audio Signal\")\n",
    "plt.xlabel(\"Sample Number\")\n",
    "plt.ylabel(\"Amplitude\")\n",
    "plt.show()"
   ]
  },
  {
   "cell_type": "code",
   "execution_count": null,
   "id": "cfa11f58",
   "metadata": {},
   "outputs": [],
   "source": [
    "# Plot a short timeframe of the audio signal \n",
    "plt.figure(figsize=(12, 4))\n",
    "length = 0.02 # lenghth of the timeframe in seconds\n",
    "offset = 0.5 # offset in seconds\n",
    "time_start = int(sr * offset)\n",
    "time_end = time_start + int(sr * length)\n",
    "plt.plot(y[time_start:time_end])\n",
    "\n",
    "plt.title(\"Audio Signal\")\n",
    "plt.xlabel(\"Sample Number\")\n",
    "plt.ylabel(\"Amplitude\")\n",
    "plt.show()"
   ]
  },
  {
   "cell_type": "markdown",
   "id": "14788ef0",
   "metadata": {},
   "source": [
    "### Remove noise\n",
    "Lets remove some noise from the signal before we start working on it!"
   ]
  },
  {
   "cell_type": "markdown",
   "id": "cfc73daa",
   "metadata": {},
   "source": [
    "# Smile :\\)\n",
    "\n",
    "Use the [OpenSMILE](https://d-nb.info/1248485475/34) tool for feature extraction.\n",
    "\n",
    "The list of features is a modified version of the [GeMAPS Feature Set](https://mediatum.ub.tum.de/doc/1523509/file.pdf). The functionality and meaning of those features are explored in the Notebook below."
   ]
  },
  {
   "cell_type": "code",
   "execution_count": null,
   "id": "e8c03ef4",
   "metadata": {},
   "outputs": [],
   "source": [
    "smile = Smile(\n",
    "    feature_set=FeatureSet.eGeMAPSv02,\n",
    "    feature_level=FeatureLevel.Functionals,\n",
    ")\n",
    "\n",
    "features = smile.process_signal(y, sr).iloc[0]\n",
    "features.shape\n"
   ]
  },
  {
   "cell_type": "code",
   "execution_count": null,
   "id": "7e00b2d4",
   "metadata": {},
   "outputs": [],
   "source": [
    "features"
   ]
  },
  {
   "cell_type": "code",
   "execution_count": null,
   "id": "1b9a08ca",
   "metadata": {},
   "outputs": [],
   "source": [
    "smile.feature_names"
   ]
  },
  {
   "cell_type": "markdown",
   "id": "dc9e237e",
   "metadata": {},
   "source": [
    "## What?!\n",
    "\n",
    "88 Features are still quite many, but compared to the original sr*seconds float variables a very high reduction of information.\n",
    "\n",
    "Now we need to know what each of those 88 values mean."
   ]
  },
  {
   "cell_type": "markdown",
   "id": "ebdf9fea",
   "metadata": {},
   "source": [
    "## 1. Statistics!\n",
    "\n",
    "Most of the values are means (mean) and standard deviations (std).\n",
    "The basic apporach in this kind of feature set is, to measure each feature multiple times, by windowing the audio file.\n",
    "\n",
    "But this would 1. still be a lot of data and 2. different lengths of audio files would have a different count of features.\n",
    "\n",
    "By taking the average (mean) and standard deviation values of one feature we are left with only two values and a good rough understanding of how the property behaves most of the time."
   ]
  },
  {
   "cell_type": "code",
   "execution_count": null,
   "id": "79f6d685",
   "metadata": {},
   "outputs": [],
   "source": [
    "array1 = np.random.normal(loc=5, scale=1.5, size=100)\n",
    "array2 = np.random.normal(loc=8, scale=0.8, size=100)\n",
    "mean1, std1 = np.mean(array1), np.std(array1)\n",
    "mean2, std2 = np.mean(array2), np.std(array2)\n",
    "\n",
    "sns.swarmplot(data=[array1, array2], palette=['skyblue', 'salmon'], size=6)\n",
    "plt.axhline(y=mean1, color='skyblue', linestyle='-', linewidth=2)\n",
    "plt.axhline(y=mean1-std1, color='skyblue', linestyle='--', linewidth=1)\n",
    "plt.axhline(y=mean1+std1, color='skyblue', linestyle='--', linewidth=1)\n",
    "plt.axhline(y=mean2, color='salmon', linestyle='-', linewidth=2)\n",
    "plt.axhline(y=mean2-std2, color='salmon', linestyle='--', linewidth=1)\n",
    "plt.axhline(y=mean2+std2, color='salmon', linestyle='--', linewidth=1)\n",
    "\n",
    "\n",
    "plt.title('Mean and Standard Deviation', fontsize=14)\n",
    "plt.xticks([0, 1], ['Feature 1', 'Feature 2'], fontsize=12)\n",
    "plt.ylabel('Values', fontsize=12)\n",
    "plt.grid(axis='y', alpha=0.3)\n",
    "plt.tight_layout()\n",
    "plt.show()"
   ]
  },
  {
   "cell_type": "markdown",
   "id": "24925699",
   "metadata": {},
   "source": [
    "### Percentiles\n",
    "\n",
    "To have an even better statistical insight of the data for more important features percentile values are used.\n",
    "Percentiles describe at which point X % of the data is present.\n",
    "A 50% percentile is the median value."
   ]
  },
  {
   "cell_type": "code",
   "execution_count": null,
   "id": "d9c28948",
   "metadata": {},
   "outputs": [],
   "source": [
    "p20 = np.percentile(array1, 20)\n",
    "p50 = np.percentile(array1, 50)\n",
    "p80 = np.percentile(array1, 80)\n",
    "\n",
    "plt.hist(array1, bins=80, color=\"skyblue\")\n",
    "plt.axvline(x=p20, color=\"salmon\", linestyle=\"--\")\n",
    "plt.axvline(x=p50, color=\"salmon\", linestyle=\"--\")\n",
    "plt.axvline(x=p80, color=\"salmon\", linestyle=\"--\")\n",
    "plt.axvline(x=mean1, color=\"salmon\", linestyle=\"-\")\n",
    "plt.show()"
   ]
  },
  {
   "cell_type": "markdown",
   "id": "ffca6029",
   "metadata": {},
   "source": [
    "# Before Feature Extraction!\n",
    "\n",
    "Before we can actually extract relevant features and their statistics over time we need to standardize the data.\n",
    "We're going to do this to visualize how some of the features are actually calculated."
   ]
  },
  {
   "cell_type": "code",
   "execution_count": null,
   "id": "356aaadd",
   "metadata": {},
   "outputs": [],
   "source": [
    "# Check the data type for float 32\n",
    "print(f\"Data type: {y.dtype}\")"
   ]
  },
  {
   "cell_type": "code",
   "execution_count": null,
   "id": "e8cbb526",
   "metadata": {},
   "outputs": [],
   "source": [
    "# Normalize the signal between -1 and 1\n",
    "#y = (y - np.min(y)) / (np.max(y) - np.min(y)) * 2 - 1"
   ]
  },
  {
   "cell_type": "code",
   "execution_count": null,
   "id": "bb458791",
   "metadata": {},
   "outputs": [],
   "source": [
    "\"\"\"\n",
    "# Apply a band pass filter\n",
    "# This is to reduce noise <20Hz  and remove unusable frequencies > 8kHz\n",
    "lowcut = 20.0\n",
    "highcut = 8000.0\n",
    "\n",
    "def butter_bandpass_filter(data, lowcut, highcut, fs, order=5):\n",
    "    nyq = 0.5 * fs\n",
    "    highcut = min(highcut, nyq * 0.99)\n",
    "    \n",
    "    low = lowcut / nyq\n",
    "    high = highcut / nyq\n",
    "    if low <= 0 or high >= 1:\n",
    "        raise ValueError(f\"Invalid cutoff frequencies: low={lowcut}Hz, high={highcut}Hz. \"\n",
    "                       f\"For fs={fs}Hz, valid range is 0 < low < high < {nyq}Hz\")\n",
    "    b, a = scipy.signal.butter(order, [low, high], btype='band')\n",
    "\n",
    "    y = scipy.signal.filtfilt(b, a, data)\n",
    "    return y\n",
    "\n",
    "\n",
    "y = butter_bandpass_filter(y, lowcut, highcut, sr)\n",
    "\"\"\""
   ]
  },
  {
   "cell_type": "code",
   "execution_count": null,
   "id": "540a7699",
   "metadata": {},
   "outputs": [],
   "source": [
    "# Windowing 60ms 20ms\n",
    "frame_length = int(0.06 * sr)  # 60ms\n",
    "hop_length = int(0.01 * sr)  # 10ms\n",
    "y_windowed = lr.util.frame(y, frame_length=frame_length, hop_length=hop_length, axis=0)\n",
    "\n",
    "print(frame_length, hop_length, y_windowed.shape)\n",
    "\n",
    "start_plot = 6\n",
    "\n",
    "plt.figure(figsize=(12, 4))\n",
    "for i in range(start_plot, start_plot+4):\n",
    "    plt.subplot(1, 4, i+1-start_plot)\n",
    "    sns.lineplot(data=y_windowed[i])\n",
    "    plt.axvline(x=hop_length, color=\"salmon\", linestyle=\"--\")\n",
    "    plt.title(f'Window {i+1}')\n",
    "plt.tight_layout()\n",
    "plt.show()"
   ]
  },
  {
   "cell_type": "code",
   "execution_count": null,
   "id": "7ecf7b67",
   "metadata": {},
   "outputs": [],
   "source": [
    "# generate a window function\n",
    "gaussian_window = scipy.signal.windows.gaussian(frame_length, std=0.4*frame_length)\n",
    "\n",
    "plt.figure(figsize=(12, 4))\n",
    "plt.subplot(1, 4, 1)\n",
    "sns.lineplot(data=gaussian_window)\n",
    "plt.title(f'Gaussian Window')\n",
    "for i in range(start_plot, start_plot+4):\n",
    "    plt.subplot(1, 4, i-start_plot+1)\n",
    "    sns.lineplot(data=y_windowed[i])\n",
    "    plt.axvline(x=hop_length, color=\"salmon\", linestyle=\"--\")\n",
    "    plt.title(f'Window {i+1}')\n",
    "plt.tight_layout()\n",
    "plt.show()"
   ]
  },
  {
   "cell_type": "code",
   "execution_count": null,
   "id": "ecea2de2",
   "metadata": {},
   "outputs": [],
   "source": [
    "# Calcualte the fourier transform\n",
    "stft = lr.stft(y, hop_length=hop_length, win_length=frame_length, window=gaussian_window, center=False)\n",
    "\n",
    "magnitude = np.abs(stft)\n",
    "db_spectrogram = lr.amplitude_to_db(magnitude, ref=np.max)\n",
    "\n",
    "single_frame = db_spectrogram[:, start_plot]\n",
    "\n",
    "frequencies = lr.fft_frequencies(sr=sr, n_fft=single_frame.shape[0]*2-1)\n",
    "\n",
    "min_freq = 0\n",
    "min_freq_index = np.where(frequencies >= min_freq)[0][0]\n",
    "max_freq = 4000\n",
    "max_freq_index = np.where(frequencies <= max_freq)[0][-1]\n",
    "\n",
    "plt.figure(figsize=(10, 6))\n",
    "plt.plot(frequencies[min_freq:max_freq_index], single_frame[min_freq:max_freq_index])\n",
    "plt.xlabel('Frequency (Hz)')\n",
    "plt.ylabel('Magnitude (dB)')\n",
    "plt.title('Single STFT Frame')\n",
    "plt.grid(True)\n",
    "plt.show()"
   ]
  },
  {
   "cell_type": "code",
   "execution_count": null,
   "id": "a546d918",
   "metadata": {},
   "outputs": [],
   "source": [
    "lr.display.specshow(\n",
    "    db_spectrogram,\n",
    "    sr=sr,\n",
    "    hop_length=hop_length,\n",
    "    x_axis=\"time\",\n",
    "    y_axis=\"log\",\n",
    "    cmap=\"magma\",\n",
    ")"
   ]
  },
  {
   "cell_type": "markdown",
   "id": "2ef002aa",
   "metadata": {},
   "source": [
    "# Frequency Related Parameters\n",
    "\n",
    "Lets take a look at the frequency related parameters of the feature set.\n",
    "The list of frequency related parameters is the following:"
   ]
  },
  {
   "cell_type": "markdown",
   "id": "e776ae38",
   "metadata": {},
   "source": [
    "### Fundamental Frequency\n",
    "|Name|Bedeutung|\n",
    "|-|-|\n",
    "'F0semitoneFrom27.5Hz_sma3nz_amean'|Mittelwert\n",
    "'F0semitoneFrom27.5Hz_sma3nz_stddevNorm'|Standartabweichung\n",
    "'F0semitoneFrom27.5Hz_sma3nz_percentile20.0'|Perzentil 20\n",
    "'F0semitoneFrom27.5Hz_sma3nz_percentile50.0'|Perzentil 50 / Median\n",
    "'F0semitoneFrom27.5Hz_sma3nz_percentile80.0'|Perzentil 80\n",
    "'F0semitoneFrom27.5Hz_sma3nz_pctlrange0-2'|Platz zwischen Perzentil 0-2\n",
    "'F0semitoneFrom27.5Hz_sma3nz_meanRisingSlope'|Steigung am Median\n",
    "'F0semitoneFrom27.5Hz_sma3nz_stddevRisingSlope'|Steigung an der Standartabweichung\n",
    "'F0semitoneFrom27.5Hz_sma3nz_meanFallingSlope'|Senkung am Median\n",
    "'F0semitoneFrom27.5Hz_sma3nz_stddevFallingSlope'|Senkung an der Standartabweichung"
   ]
  },
  {
   "cell_type": "code",
   "execution_count": null,
   "id": "ad17e4f5",
   "metadata": {},
   "outputs": [],
   "source": [
    "amean = features[\"F0semitoneFrom27.5Hz_sma3nz_amean\"]\n",
    "std = features[\"F0semitoneFrom27.5Hz_sma3nz_stddevNorm\"]\n",
    "pct_20 = features[\"F0semitoneFrom27.5Hz_sma3nz_percentile20.0\"]\n",
    "pct_50 = features[\"F0semitoneFrom27.5Hz_sma3nz_percentile50.0\"]\n",
    "pct_80 = features[\"F0semitoneFrom27.5Hz_sma3nz_percentile80.0\"]\n",
    "\n",
    "amean, std, pct_20, pct_50, pct_80"
   ]
  },
  {
   "cell_type": "code",
   "execution_count": null,
   "id": "63f09d14",
   "metadata": {},
   "outputs": [],
   "source": [
    "# fundamental_freq\n",
    "lr.display.specshow(\n",
    "    db_spectrogram,\n",
    "    sr=sr,\n",
    "    hop_length=hop_length,\n",
    "    x_axis=\"time\",\n",
    "    y_axis=\"log\",\n",
    "    cmap=\"magma\",\n",
    ")\n",
    "\n",
    "plt.axhline(y=amean, color=\"white\", linestyle=\"--\", label=\"F0 Mean\")\n",
    "plt.axhline(y=amean*4, color=\"white\", linestyle=\"--\", linewidth=1, label=\"F0 Mean * 4\")\n",
    "plt.axhline(y=amean+std, color=\"gray\", linestyle=\"--\", label=\"F0 Std\")\n",
    "plt.axhline(y=amean-std, color=\"gray\", linestyle=\"--\")\n",
    "plt.axhline(y=pct_20, color=\"blue\", linestyle=\"--\", label=\"Percentiles\")\n",
    "plt.axhline(y=pct_50, color=\"blue\", linestyle=\"--\")\n",
    "plt.axhline(y=pct_80, color=\"blue\", linestyle=\"--\")\n",
    "\n",
    "plt.legend(loc=\"upper right\")\n",
    "plt.show()"
   ]
  },
  {
   "cell_type": "code",
   "execution_count": null,
   "id": "368e200f",
   "metadata": {},
   "outputs": [],
   "source": []
  },
  {
   "cell_type": "markdown",
   "id": "abaf101f",
   "metadata": {},
   "source": [
    "### Energy / Amplitude realted Parameters"
   ]
  },
  {
   "cell_type": "code",
   "execution_count": null,
   "id": "35bc0587",
   "metadata": {},
   "outputs": [],
   "source": []
  },
  {
   "cell_type": "markdown",
   "id": "a8cddbc2",
   "metadata": {},
   "source": [
    "### Spectral (balance) Parameters"
   ]
  },
  {
   "cell_type": "code",
   "execution_count": null,
   "id": "4c801a37",
   "metadata": {},
   "outputs": [],
   "source": []
  },
  {
   "cell_type": "code",
   "execution_count": null,
   "id": "6e3c990d",
   "metadata": {},
   "outputs": [],
   "source": []
  },
  {
   "cell_type": "markdown",
   "id": "8b08b5ca",
   "metadata": {},
   "source": [
    "### Temporal Paramers"
   ]
  },
  {
   "cell_type": "code",
   "execution_count": null,
   "id": "d83b44da",
   "metadata": {},
   "outputs": [],
   "source": []
  },
  {
   "cell_type": "markdown",
   "id": "70aaca7d",
   "metadata": {},
   "source": [
    "### Extended Parameter Set"
   ]
  },
  {
   "cell_type": "markdown",
   "id": "8f7b2922",
   "metadata": {},
   "source": []
  }
 ],
 "metadata": {
  "kernelspec": {
   "display_name": "age_by_voice",
   "language": "python",
   "name": "age_by_voice"
  },
  "language_info": {
   "codemirror_mode": {
    "name": "ipython",
    "version": 3
   },
   "file_extension": ".py",
   "mimetype": "text/x-python",
   "name": "python",
   "nbconvert_exporter": "python",
   "pygments_lexer": "ipython3",
   "version": "3.10.16"
  }
 },
 "nbformat": 4,
 "nbformat_minor": 5
}
