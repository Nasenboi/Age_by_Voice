{
 "cells": [
  {
   "cell_type": "markdown",
   "id": "8ea68055",
   "metadata": {},
   "source": [
    "# Age Regression Notebook"
   ]
  },
  {
   "cell_type": "code",
   "execution_count": null,
   "id": "f0265e15",
   "metadata": {},
   "outputs": [],
   "source": [
    "import os\n",
    "import pandas as pd\n",
    "import numpy as np\n",
    "from sklearn.model_selection import train_test_split\n",
    "from sklearn.metrics import confusion_matrix, accuracy_score, make_scorer, cohen_kappa_score\n",
    "from sklearn.preprocessing import StandardScaler, RobustScaler\n",
    "from sklearn.pipeline import Pipeline\n",
    "from sklearn.model_selection import StratifiedKFold, GridSearchCV\n",
    "\n",
    "from mord import OrdinalRidge\n",
    "\n",
    "import matplotlib.pyplot as plt\n",
    "import seaborn as sns"
   ]
  },
  {
   "cell_type": "code",
   "execution_count": null,
   "id": "723f5fbe",
   "metadata": {},
   "outputs": [],
   "source": [
    "feature_path = \"../data/features.csv\"\n",
    "voices_path = \"../data/voices.csv\""
   ]
  },
  {
   "cell_type": "code",
   "execution_count": null,
   "id": "c74a72c0",
   "metadata": {},
   "outputs": [],
   "source": [
    "features = pd.read_csv(feature_path, index_col=\"clip_id\")\n",
    "voices = pd.read_csv(voices_path, index_col=\"clip_id\")"
   ]
  },
  {
   "cell_type": "code",
   "execution_count": null,
   "id": "afbd1cd9",
   "metadata": {},
   "outputs": [],
   "source": [
    "# turn 90 and 80 to >= 80\n",
    "data = voices.merge(features, left_index=True, right_index=True, how='inner')\n",
    "data.loc[data.voice_age_group == 90, \"voice_age_group\"] = 80\n",
    "data.voice_age_group.value_counts()"
   ]
  },
  {
   "cell_type": "code",
   "execution_count": null,
   "id": "983bdb7f",
   "metadata": {},
   "outputs": [],
   "source": [
    "data = data.groupby('voice_age_group', group_keys=False).apply(\n",
    "    lambda x: x.sample(n=2000, replace=True, random_state=42)\n",
    ").sample(frac=1, random_state=42)\n",
    "data.voice_age_group.value_counts()"
   ]
  },
  {
   "cell_type": "code",
   "execution_count": null,
   "id": "570a4e36",
   "metadata": {},
   "outputs": [],
   "source": [
    "data.head()"
   ]
  },
  {
   "cell_type": "code",
   "execution_count": null,
   "id": "eeb914c6",
   "metadata": {},
   "outputs": [],
   "source": [
    "X = data[features.columns]\n",
    "y = data.voice_age_group"
   ]
  },
  {
   "cell_type": "code",
   "execution_count": null,
   "id": "30ba944f",
   "metadata": {},
   "outputs": [],
   "source": [
    "X.head()"
   ]
  },
  {
   "cell_type": "code",
   "execution_count": null,
   "id": "871676de",
   "metadata": {},
   "outputs": [],
   "source": [
    "age_bins = [20, 30, 40, 50, 60, 70, 80]\n",
    "y_ordinal = np.digitize(y, age_bins) - 1\n",
    "\n",
    "y_ordinal"
   ]
  },
  {
   "cell_type": "code",
   "execution_count": null,
   "id": "a29d57e0",
   "metadata": {},
   "outputs": [],
   "source": [
    "X_train, X_test, y_train, y_test = train_test_split(X, y_ordinal, test_size=0.2)"
   ]
  },
  {
   "cell_type": "code",
   "execution_count": null,
   "id": "45f7177b",
   "metadata": {},
   "outputs": [],
   "source": [
    "def evaluate_model_classification(model, X_train, X_test, y_train, y_test):\n",
    "    y_pred_train = model.predict(X_train)\n",
    "    y_pred_test = model.predict(X_test)\n",
    "\n",
    "    print(\"Train Accuracy:\", accuracy_score(y_train, y_pred_train))\n",
    "    print(\"Test Accuracy:\", accuracy_score(y_test, y_pred_test))\n",
    "    \n",
    "    conf = confusion_matrix(y_test, y_pred_test)\n",
    "    print(\"Confusion Matrix:\\n\", conf)\n",
    "    sns.heatmap(\n",
    "        conf,\n",
    "        annot=True,\n",
    "        fmt=\"d\",\n",
    "        cmap=\"Blues\",\n",
    "        xticklabels=age_bins,\n",
    "        yticklabels=age_bins\n",
    "    )\n",
    "    plt.xlabel(\"Predicted Age Group\")\n",
    "    plt.ylabel(\"True Age Group\")\n",
    "    plt.title(\"Confusion Matrix\")\n",
    "    plt.show()"
   ]
  },
  {
   "cell_type": "markdown",
   "id": "a429dcfa",
   "metadata": {},
   "source": [
    "# Ordinal Model"
   ]
  },
  {
   "cell_type": "code",
   "execution_count": null,
   "id": "92fca694",
   "metadata": {},
   "outputs": [],
   "source": [
    "param_grid = {\n",
    "    'ordinalridge__alpha': [0.001, 0.01, 0.1, 1.0, 10.0, 100.0],  # Regularization strength\n",
    "    'ordinalridge__fit_intercept': [True, False],\n",
    "    'ordinalridge__tol': [1e-4, 1e-3, 1e-2],  # Tolerance for stopping\n",
    "    'ordinalridge__max_iter': [100, 500, 1000]  # Maximum iterations\n",
    "}\n",
    "\n",
    "pipeline = Pipeline([\n",
    "    ('scaler', RobustScaler()),\n",
    "    ('ordinalridge', OrdinalRidge())\n",
    "])\n",
    "\n",
    "# Use stratified k-fold for ordinal targets\n",
    "cv = StratifiedKFold(n_splits=3, shuffle=True, random_state=42)\n",
    "\n",
    "# Custom scoring for ordinal problems\n",
    "scoring = {\n",
    "    'accuracy': 'accuracy',\n",
    "    'balanced_accuracy': 'balanced_accuracy',\n",
    "    'mae': 'neg_mean_absolute_error',\n",
    "    'kappa': make_scorer(cohen_kappa_score, weights='quadratic')\n",
    "}\n",
    "\n",
    "grid_search = GridSearchCV(\n",
    "    estimator=pipeline,\n",
    "    param_grid=param_grid,\n",
    "    cv=cv,\n",
    "    scoring=scoring,\n",
    "    refit='kappa',  # Focus on improving ordinal agreement\n",
    "    n_jobs=-1,\n",
    "    verbose=1\n",
    ")\n",
    "\n",
    "grid_search.fit(X_train, y_train)\n",
    "\n",
    "print(\"Best parameters found: \", grid_search.best_params_)\n",
    "evaluate_model_classification(grid_search.best_estimator_, X_train, X_test, y_train, y_test)"
   ]
  },
  {
   "cell_type": "markdown",
   "id": "dc68e4a8",
   "metadata": {},
   "source": [
    "# AT"
   ]
  },
  {
   "cell_type": "code",
   "execution_count": null,
   "id": "be249a06",
   "metadata": {},
   "outputs": [],
   "source": [
    "from mord import LogisticAT\n",
    "\n",
    "model = LogisticAT(alpha=0.1)\n",
    "model.fit(X_train, y_train)\n",
    "evaluate_model_classification(model, X_train, X_test, y_train, y_test)"
   ]
  },
  {
   "cell_type": "markdown",
   "id": "27867028",
   "metadata": {},
   "source": [
    "# Random Forest"
   ]
  },
  {
   "cell_type": "code",
   "execution_count": null,
   "id": "5b14a798",
   "metadata": {},
   "outputs": [],
   "source": [
    "from sklearn.ensemble import RandomForestClassifier\n",
    "\n",
    "ordinal_scorer = make_scorer(cohen_kappa_score, weights='quadratic')\n",
    "\n",
    "# Best parameters found:  {'max_depth': 10, 'max_features': 0.3, 'min_samples_leaf': 3, 'n_estimators': 600}\n",
    "param_grid = {\n",
    "    'n_estimators': [200, 400, 600, 1000],  # More trees help, but with diminishing returns\n",
    "    'max_depth': [3, 5, 7, 10],  # Control overfitting\n",
    "    'min_samples_leaf': [3, 5],    # Smooth predictions\n",
    "    'max_features': ['sqrt', 0.3]  # Reduce correlation between trees\n",
    "}\n",
    "\n",
    "model = RandomForestClassifier(random_state=42, class_weight='balanced')\n",
    "\n",
    "# Use 3-fold CV for speed (increase if you have small datasets)\n",
    "grid_search = GridSearchCV(\n",
    "    estimator=model,\n",
    "    param_grid=param_grid,\n",
    "    cv=5,\n",
    "    scoring=ordinal_scorer,  # Prioritize ordinal agreement\n",
    "    n_jobs=-1,\n",
    "    verbose=2\n",
    ")\n",
    "\n",
    "grid_search.fit(X_train, y_train)\n",
    "\n",
    "print(\"Best parameters found: \", grid_search.best_params_)\n",
    "evaluate_model_classification(grid_search.best_estimator_, X_train, X_test, y_train, y_test)"
   ]
  },
  {
   "cell_type": "code",
   "execution_count": null,
   "id": "914ae354",
   "metadata": {},
   "outputs": [],
   "source": []
  }
 ],
 "metadata": {
  "kernelspec": {
   "display_name": "age_by_voice",
   "language": "python",
   "name": "age_by_voice"
  },
  "language_info": {
   "codemirror_mode": {
    "name": "ipython",
    "version": 3
   },
   "file_extension": ".py",
   "mimetype": "text/x-python",
   "name": "python",
   "nbconvert_exporter": "python",
   "pygments_lexer": "ipython3",
   "version": "3.10.16"
  }
 },
 "nbformat": 4,
 "nbformat_minor": 5
}
