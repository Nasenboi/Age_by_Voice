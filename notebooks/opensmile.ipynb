{
 "cells": [
  {
   "cell_type": "code",
   "execution_count": null,
   "id": "bd9d24b2",
   "metadata": {},
   "outputs": [],
   "source": [
    "# Imports\n",
    "# Python packages\n",
    "import numpy as np\n",
    "import matplotlib.pyplot as plt\n",
    "import IPython.display as ipd\n",
    "import opensmile\n",
    "import librosa\n",
    "import os\n",
    "import random\n",
    "# Custom package\n",
    "\n"
   ]
  },
  {
   "cell_type": "code",
   "execution_count": null,
   "id": "8c55cd5d",
   "metadata": {},
   "outputs": [],
   "source": [
    "audio_path = \"/home/chr1s/Downloads/cv-corpus-21.0-2025-03-14/en/clips\"\n",
    "# pick a random file\n",
    "\n",
    "files = os.listdir(audio_path)\n",
    "random_file = os.path.join(audio_path, random.choice(files))\n",
    "\n",
    "y, sr = librosa.load(random_file, sr=16000)\n",
    "ipd.Audio(random_file)\n"
   ]
  },
  {
   "cell_type": "code",
   "execution_count": null,
   "id": "413010e8",
   "metadata": {},
   "outputs": [],
   "source": [
    "smile = opensmile.Smile(\n",
    "    feature_level=opensmile.FeatureLevel.Functionals,\n",
    "    feature_set=opensmile.FeatureSet.eGeMAPSv02\n",
    ")\n",
    "features = smile.process_signal(y, sr)\n",
    "features"
   ]
  },
  {
   "cell_type": "code",
   "execution_count": null,
   "id": "9f4a5822",
   "metadata": {},
   "outputs": [],
   "source": []
  },
  {
   "cell_type": "code",
   "execution_count": null,
   "id": "4eaace9e",
   "metadata": {},
   "outputs": [],
   "source": []
  }
 ],
 "metadata": {
  "kernelspec": {
   "display_name": "age_by_voice",
   "language": "python",
   "name": "age_by_voice"
  },
  "language_info": {
   "codemirror_mode": {
    "name": "ipython",
    "version": 3
   },
   "file_extension": ".py",
   "mimetype": "text/x-python",
   "name": "python",
   "nbconvert_exporter": "python",
   "pygments_lexer": "ipython3",
   "version": "3.10.16"
  }
 },
 "nbformat": 4,
 "nbformat_minor": 5
}
