{
 "cells": [
  {
   "cell_type": "markdown",
   "id": "76574f4c",
   "metadata": {},
   "source": [
    "# Gender by Voice\n",
    "\n",
    "This is the interim result of my study.\n",
    "The final goal is to classify the age of a person by their voice and examine, which audio features are most relevant for this task.\n",
    "\n",
    "But today I'll show you the test study to determine the gender.\n",
    "I did this task first to see:\n",
    "1. If the proposed technique could be generally applied\n",
    "2. Use the restult for further study: is the gender a relevant feature to determine the age of a person by their voice"
   ]
  },
  {
   "cell_type": "markdown",
   "id": "36c20070",
   "metadata": {},
   "source": [
    "# Before we start\n",
    "You can peacefully ignore this for now:"
   ]
  },
  {
   "cell_type": "code",
   "execution_count": 138,
   "id": "b4a11246",
   "metadata": {},
   "outputs": [],
   "source": [
    "# Imports\n",
    "import os\n",
    "import pandas as pd\n",
    "import numpy as np\n",
    "from opensmile import Smile, FeatureSet, FeatureLevel\n",
    "import matplotlib.pyplot as plt\n",
    "import seaborn as sns\n",
    "import random\n",
    "import IPython.display as ipd\n",
    "import shap\n",
    "\n",
    "from sklearn.model_selection import train_test_split\n",
    "from sklearn.metrics import confusion_matrix, accuracy_score, roc_auc_score, roc_curve, auc\n",
    "from joblib import load"
   ]
  },
  {
   "cell_type": "code",
   "execution_count": 139,
   "id": "cc2450b6",
   "metadata": {},
   "outputs": [],
   "source": [
    "# File paths\n",
    "no_audio_csv = \"/run/media/chr1s/0c135d7a-de30-4062-a5bc-16addf703a18/uni/SAudio/csv_saves/no_audio/save_voices_440000.csv\"\n",
    "gemaps_features_csv = \"/run/media/chr1s/0c135d7a-de30-4062-a5bc-16addf703a18/uni/SAudio/csv_saves/gemaps/features.csv\"\n",
    "gemaps_voices_csv = \"/run/media/chr1s/0c135d7a-de30-4062-a5bc-16addf703a18/uni/SAudio/csv_saves/gemaps/voices.csv\"\n",
    "\n",
    "random_forest = \"/run/media/chr1s/0c135d7a-de30-4062-a5bc-16addf703a18/uni/SAudio/models/randomforest/random_forest_model.joblib\"\n",
    "\n",
    "audio_path = \"/run/media/chr1s/0c135d7a-de30-4062-a5bc-16addf703a18/uni/SAudio/datasets/CV/en/clips/\""
   ]
  },
  {
   "cell_type": "markdown",
   "id": "e2f7470f",
   "metadata": {},
   "source": [
    "## The Dataset\n",
    "\n",
    "I used the [Mozilla Common Voice (CV)](https://commonvoice.mozilla.org/de) Dataset.\n",
    "This is a dataset consisting of almost 20k voices, and more than 1k validated hours of speech.\n",
    "Each audio file is a small single spoken sentence of one speaker. Each audio file has associated labels, including voice_id, accent, age_group, etc.\n",
    "\n",
    "### The Data I used\n",
    "\n",
    "I did not have the chance to use the whole dataset. Firstly because my computer simply cound't handle it and secondly because not every audio file is completely labeled. Another reason to trim the dataset is to create a more balanced distribution of labels: the gender ratio is rouchly 60% Male 8% Female (the rest is unlabeled, **additional genders were not labeled**).\n",
    "\n",
    "I created a simple parser class to parse the tsv information first into a pandas DataFrame object and then back into a csv. I ignored all data points with the required labels age_group and gender missing.\n",
    "\n",
    "The resulting DataFrame looks like this: "
   ]
  },
  {
   "cell_type": "code",
   "execution_count": 140,
   "id": "451e62e3",
   "metadata": {},
   "outputs": [
    {
     "data": {
      "text/html": [
       "<div>\n",
       "<style scoped>\n",
       "    .dataframe tbody tr th:only-of-type {\n",
       "        vertical-align: middle;\n",
       "    }\n",
       "\n",
       "    .dataframe tbody tr th {\n",
       "        vertical-align: top;\n",
       "    }\n",
       "\n",
       "    .dataframe thead th {\n",
       "        text-align: right;\n",
       "    }\n",
       "</style>\n",
       "<table border=\"1\" class=\"dataframe\">\n",
       "  <thead>\n",
       "    <tr style=\"text-align: right;\">\n",
       "      <th></th>\n",
       "      <th>audio_file_name</th>\n",
       "      <th>voice_name</th>\n",
       "      <th>voice_age</th>\n",
       "      <th>voice_age_group</th>\n",
       "      <th>voice_gender</th>\n",
       "      <th>features_extracted</th>\n",
       "    </tr>\n",
       "    <tr>\n",
       "      <th>clip_id</th>\n",
       "      <th></th>\n",
       "      <th></th>\n",
       "      <th></th>\n",
       "      <th></th>\n",
       "      <th></th>\n",
       "      <th></th>\n",
       "    </tr>\n",
       "  </thead>\n",
       "  <tbody>\n",
       "    <tr>\n",
       "      <th>51946c6f-7448-4742-b61c-17e583981911</th>\n",
       "      <td>common_voice_en_18188256.mp3</td>\n",
       "      <td>50_m_00347</td>\n",
       "      <td>NaN</td>\n",
       "      <td>50</td>\n",
       "      <td>m</td>\n",
       "      <td>False</td>\n",
       "    </tr>\n",
       "    <tr>\n",
       "      <th>75dfdd53-b728-4e38-bd92-9da282627f1d</th>\n",
       "      <td>common_voice_en_17804843.mp3</td>\n",
       "      <td>70_m_008fe</td>\n",
       "      <td>NaN</td>\n",
       "      <td>70</td>\n",
       "      <td>m</td>\n",
       "      <td>False</td>\n",
       "    </tr>\n",
       "    <tr>\n",
       "      <th>9deb7f24-3404-4dac-be07-e7ff539f10a2</th>\n",
       "      <td>common_voice_en_17534895.mp3</td>\n",
       "      <td>20_m_01750</td>\n",
       "      <td>NaN</td>\n",
       "      <td>20</td>\n",
       "      <td>m</td>\n",
       "      <td>False</td>\n",
       "    </tr>\n",
       "    <tr>\n",
       "      <th>7d62e834-e358-4f13-9087-399096eab450</th>\n",
       "      <td>common_voice_en_38389114.mp3</td>\n",
       "      <td>20_m_017fb</td>\n",
       "      <td>NaN</td>\n",
       "      <td>20</td>\n",
       "      <td>m</td>\n",
       "      <td>False</td>\n",
       "    </tr>\n",
       "    <tr>\n",
       "      <th>f249640e-9fd8-4a3e-abf7-c82272338b15</th>\n",
       "      <td>common_voice_en_34382925.mp3</td>\n",
       "      <td>20_m_02383</td>\n",
       "      <td>NaN</td>\n",
       "      <td>20</td>\n",
       "      <td>m</td>\n",
       "      <td>False</td>\n",
       "    </tr>\n",
       "  </tbody>\n",
       "</table>\n",
       "</div>"
      ],
      "text/plain": [
       "                                                   audio_file_name  \\\n",
       "clip_id                                                              \n",
       "51946c6f-7448-4742-b61c-17e583981911  common_voice_en_18188256.mp3   \n",
       "75dfdd53-b728-4e38-bd92-9da282627f1d  common_voice_en_17804843.mp3   \n",
       "9deb7f24-3404-4dac-be07-e7ff539f10a2  common_voice_en_17534895.mp3   \n",
       "7d62e834-e358-4f13-9087-399096eab450  common_voice_en_38389114.mp3   \n",
       "f249640e-9fd8-4a3e-abf7-c82272338b15  common_voice_en_34382925.mp3   \n",
       "\n",
       "                                      voice_name  voice_age  voice_age_group  \\\n",
       "clip_id                                                                        \n",
       "51946c6f-7448-4742-b61c-17e583981911  50_m_00347        NaN               50   \n",
       "75dfdd53-b728-4e38-bd92-9da282627f1d  70_m_008fe        NaN               70   \n",
       "9deb7f24-3404-4dac-be07-e7ff539f10a2  20_m_01750        NaN               20   \n",
       "7d62e834-e358-4f13-9087-399096eab450  20_m_017fb        NaN               20   \n",
       "f249640e-9fd8-4a3e-abf7-c82272338b15  20_m_02383        NaN               20   \n",
       "\n",
       "                                     voice_gender  features_extracted  \n",
       "clip_id                                                                \n",
       "51946c6f-7448-4742-b61c-17e583981911            m               False  \n",
       "75dfdd53-b728-4e38-bd92-9da282627f1d            m               False  \n",
       "9deb7f24-3404-4dac-be07-e7ff539f10a2            m               False  \n",
       "7d62e834-e358-4f13-9087-399096eab450            m               False  \n",
       "f249640e-9fd8-4a3e-abf7-c82272338b15            m               False  "
      ]
     },
     "execution_count": 140,
     "metadata": {},
     "output_type": "execute_result"
    }
   ],
   "source": [
    "df = pd.read_csv(no_audio_csv, index_col=\"clip_id\")\n",
    "df.head()"
   ]
  },
  {
   "cell_type": "code",
   "execution_count": 141,
   "id": "0582a2e5",
   "metadata": {},
   "outputs": [
    {
     "data": {
      "text/plain": [
       "audio_file_name       common_voice_en_25959034.mp3\n",
       "voice_name                              20_m_41f64\n",
       "voice_age                                      NaN\n",
       "voice_age_group                                 20\n",
       "voice_gender                                     m\n",
       "features_extracted                           False\n",
       "Name: 3266e2bf-f065-45a4-9eb7-dda926d198bd, dtype: object"
      ]
     },
     "execution_count": 141,
     "metadata": {},
     "output_type": "execute_result"
    }
   ],
   "source": [
    "random_row = df.loc[random.choice(df.index)]\n",
    "random_row"
   ]
  },
  {
   "cell_type": "markdown",
   "id": "ce4d790d",
   "metadata": {},
   "source": [
    "### Problem:\n",
    "\n",
    "As I said earlier, the distribution of the gender is off:"
   ]
  },
  {
   "cell_type": "code",
   "execution_count": 142,
   "id": "326ae43a",
   "metadata": {},
   "outputs": [
    {
     "data": {
      "text/plain": [
       "voice_gender\n",
       "m    337032\n",
       "f    102968\n",
       "Name: count, dtype: int64"
      ]
     },
     "execution_count": 142,
     "metadata": {},
     "output_type": "execute_result"
    }
   ],
   "source": [
    "df.voice_gender.value_counts()"
   ]
  },
  {
   "cell_type": "markdown",
   "id": "21b747ec",
   "metadata": {},
   "source": [
    "I solved this by undersampling the male voice audio files. So each gender should have an equal amount of data.\n",
    "A random selection of male voice audio files will be discarded. "
   ]
  },
  {
   "cell_type": "code",
   "execution_count": 143,
   "id": "c8bb4ad1",
   "metadata": {},
   "outputs": [],
   "source": [
    "del df"
   ]
  },
  {
   "cell_type": "markdown",
   "id": "b433431a",
   "metadata": {},
   "source": [
    "## Where are the audio features?\n",
    "\n",
    "Right now we only have the labels and the path to an audio file:"
   ]
  },
  {
   "cell_type": "code",
   "execution_count": 144,
   "id": "ce2d864b",
   "metadata": {},
   "outputs": [
    {
     "data": {
      "text/html": [
       "\n",
       "                <audio  controls=\"controls\" >\n",
       "                    <source src=\"data:audio/mpeg;base64,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\" type=\"audio/mpeg\" />\n",
       "                    Your browser does not support the audio element.\n",
       "                </audio>\n",
       "              "
      ],
      "text/plain": [
       "<IPython.lib.display.Audio object>"
      ]
     },
     "execution_count": 144,
     "metadata": {},
     "output_type": "execute_result"
    }
   ],
   "source": [
    "audio_file = os.path.join(audio_path, random_row.audio_file_name)\n",
    "ipd.Audio(audio_file) "
   ]
  },
  {
   "cell_type": "markdown",
   "id": "23035766",
   "metadata": {},
   "source": [
    "## Smile + GeMAPS\n",
    "\n",
    "I implemented a feature extraction method in the parser from earlier.\n",
    "The parser can handle three kinds of feature sets: ComParE2016 (6373 Features), eGeMAPSv2 (88 Features) and a custom one (currently at 36 Features)\n",
    "\n",
    "For the study I tired all feature sets. While a scientific comparison did not happen yet, I have made the best results with the eGeMAPSv2 feature set.\n",
    "\n",
    "How this feature set actually works and what each feature means can be explored in the Notebook: explore_gemaps (work in progress)."
   ]
  },
  {
   "cell_type": "code",
   "execution_count": 145,
   "id": "0ab65209",
   "metadata": {},
   "outputs": [
    {
     "data": {
      "text/plain": [
       "['F0semitoneFrom27.5Hz_sma3nz_amean',\n",
       " 'F0semitoneFrom27.5Hz_sma3nz_stddevNorm',\n",
       " 'F0semitoneFrom27.5Hz_sma3nz_percentile20.0',\n",
       " 'F0semitoneFrom27.5Hz_sma3nz_percentile50.0',\n",
       " 'F0semitoneFrom27.5Hz_sma3nz_percentile80.0',\n",
       " 'F0semitoneFrom27.5Hz_sma3nz_pctlrange0-2',\n",
       " 'F0semitoneFrom27.5Hz_sma3nz_meanRisingSlope',\n",
       " 'F0semitoneFrom27.5Hz_sma3nz_stddevRisingSlope',\n",
       " 'F0semitoneFrom27.5Hz_sma3nz_meanFallingSlope',\n",
       " 'F0semitoneFrom27.5Hz_sma3nz_stddevFallingSlope']"
      ]
     },
     "execution_count": 145,
     "metadata": {},
     "output_type": "execute_result"
    }
   ],
   "source": [
    "# Load the feature extractor\n",
    "smile = Smile(\n",
    "    feature_set=FeatureSet.eGeMAPSv02,\n",
    "    feature_level=FeatureLevel.Functionals,\n",
    ")\n",
    "smile.feature_names[:10]"
   ]
  },
  {
   "cell_type": "code",
   "execution_count": 146,
   "id": "930652a7",
   "metadata": {},
   "outputs": [
    {
     "data": {
      "text/plain": [
       "F0semitoneFrom27.5Hz_sma3nz_amean             26.715689\n",
       "F0semitoneFrom27.5Hz_sma3nz_stddevNorm         0.171282\n",
       "F0semitoneFrom27.5Hz_sma3nz_percentile20.0    25.203964\n",
       "F0semitoneFrom27.5Hz_sma3nz_percentile50.0    26.222847\n",
       "F0semitoneFrom27.5Hz_sma3nz_percentile80.0    27.353197\n",
       "                                                ...    \n",
       "MeanVoicedSegmentLengthSec                     0.222000\n",
       "StddevVoicedSegmentLengthSec                   0.266713\n",
       "MeanUnvoicedSegmentLength                      0.182727\n",
       "StddevUnvoicedSegmentLength                    0.219342\n",
       "equivalentSoundLevel_dBp                     -24.868923\n",
       "Name: (/run/media/chr1s/0c135d7a-de30-4062-a5bc-16addf703a18/uni/SAudio/datasets/CV/en/clips/common_voice_en_25959034.mp3, 0 days 00:00:00, 0 days 00:00:04.500000), Length: 88, dtype: float32"
      ]
     },
     "execution_count": 146,
     "metadata": {},
     "output_type": "execute_result"
    }
   ],
   "source": [
    "# Extract features from the random audio file:\n",
    "smile_features = smile.process_file(audio_file).iloc[0]\n",
    "smile_features"
   ]
  },
  {
   "cell_type": "markdown",
   "id": "d22e13f2",
   "metadata": {},
   "source": [
    "## Do this for the whole dataset (and wait.... a long time...)\n",
    "\n",
    "After doing this for every audio file we have a second csv:\n",
    "\n",
    "\n",
    "- One csv contains the features of the voice, including the labels of the dataset.\n",
    "- The other csv contains the audio features of each audio file."
   ]
  },
  {
   "cell_type": "code",
   "execution_count": 147,
   "id": "014930c0",
   "metadata": {},
   "outputs": [
    {
     "data": {
      "text/html": [
       "<div>\n",
       "<style scoped>\n",
       "    .dataframe tbody tr th:only-of-type {\n",
       "        vertical-align: middle;\n",
       "    }\n",
       "\n",
       "    .dataframe tbody tr th {\n",
       "        vertical-align: top;\n",
       "    }\n",
       "\n",
       "    .dataframe thead th {\n",
       "        text-align: right;\n",
       "    }\n",
       "</style>\n",
       "<table border=\"1\" class=\"dataframe\">\n",
       "  <thead>\n",
       "    <tr style=\"text-align: right;\">\n",
       "      <th></th>\n",
       "      <th>audio_file_name</th>\n",
       "      <th>voice_name</th>\n",
       "      <th>voice_age</th>\n",
       "      <th>voice_age_group</th>\n",
       "      <th>voice_gender</th>\n",
       "      <th>features_extracted</th>\n",
       "    </tr>\n",
       "    <tr>\n",
       "      <th>clip_id</th>\n",
       "      <th></th>\n",
       "      <th></th>\n",
       "      <th></th>\n",
       "      <th></th>\n",
       "      <th></th>\n",
       "      <th></th>\n",
       "    </tr>\n",
       "  </thead>\n",
       "  <tbody>\n",
       "    <tr>\n",
       "      <th>3d060d83-adbd-44e0-afce-b826aa5381b1</th>\n",
       "      <td>common_voice_en_19666343.mp3</td>\n",
       "      <td>20_m_0b062</td>\n",
       "      <td>NaN</td>\n",
       "      <td>20</td>\n",
       "      <td>m</td>\n",
       "      <td>True</td>\n",
       "    </tr>\n",
       "    <tr>\n",
       "      <th>ecd475b2-3015-4ce5-a2fe-81534bf945b0</th>\n",
       "      <td>common_voice_en_23711401.mp3</td>\n",
       "      <td>30_m_89b1e</td>\n",
       "      <td>NaN</td>\n",
       "      <td>30</td>\n",
       "      <td>m</td>\n",
       "      <td>True</td>\n",
       "    </tr>\n",
       "    <tr>\n",
       "      <th>01374f0c-ff48-4663-a42d-08c4f184e299</th>\n",
       "      <td>common_voice_en_27285325.mp3</td>\n",
       "      <td>30_m_b229e</td>\n",
       "      <td>NaN</td>\n",
       "      <td>30</td>\n",
       "      <td>m</td>\n",
       "      <td>True</td>\n",
       "    </tr>\n",
       "    <tr>\n",
       "      <th>4c985ac7-9e16-4dc9-9c45-2127a16fe7fe</th>\n",
       "      <td>common_voice_en_216280.mp3</td>\n",
       "      <td>20_m_6603d</td>\n",
       "      <td>NaN</td>\n",
       "      <td>20</td>\n",
       "      <td>m</td>\n",
       "      <td>True</td>\n",
       "    </tr>\n",
       "    <tr>\n",
       "      <th>e878a03f-b309-4197-8e87-40b42e5c431d</th>\n",
       "      <td>common_voice_en_35888106.mp3</td>\n",
       "      <td>30_m_bdd6a</td>\n",
       "      <td>NaN</td>\n",
       "      <td>30</td>\n",
       "      <td>m</td>\n",
       "      <td>True</td>\n",
       "    </tr>\n",
       "  </tbody>\n",
       "</table>\n",
       "</div>"
      ],
      "text/plain": [
       "                                                   audio_file_name  \\\n",
       "clip_id                                                              \n",
       "3d060d83-adbd-44e0-afce-b826aa5381b1  common_voice_en_19666343.mp3   \n",
       "ecd475b2-3015-4ce5-a2fe-81534bf945b0  common_voice_en_23711401.mp3   \n",
       "01374f0c-ff48-4663-a42d-08c4f184e299  common_voice_en_27285325.mp3   \n",
       "4c985ac7-9e16-4dc9-9c45-2127a16fe7fe    common_voice_en_216280.mp3   \n",
       "e878a03f-b309-4197-8e87-40b42e5c431d  common_voice_en_35888106.mp3   \n",
       "\n",
       "                                      voice_name  voice_age  voice_age_group  \\\n",
       "clip_id                                                                        \n",
       "3d060d83-adbd-44e0-afce-b826aa5381b1  20_m_0b062        NaN               20   \n",
       "ecd475b2-3015-4ce5-a2fe-81534bf945b0  30_m_89b1e        NaN               30   \n",
       "01374f0c-ff48-4663-a42d-08c4f184e299  30_m_b229e        NaN               30   \n",
       "4c985ac7-9e16-4dc9-9c45-2127a16fe7fe  20_m_6603d        NaN               20   \n",
       "e878a03f-b309-4197-8e87-40b42e5c431d  30_m_bdd6a        NaN               30   \n",
       "\n",
       "                                     voice_gender  features_extracted  \n",
       "clip_id                                                                \n",
       "3d060d83-adbd-44e0-afce-b826aa5381b1            m                True  \n",
       "ecd475b2-3015-4ce5-a2fe-81534bf945b0            m                True  \n",
       "01374f0c-ff48-4663-a42d-08c4f184e299            m                True  \n",
       "4c985ac7-9e16-4dc9-9c45-2127a16fe7fe            m                True  \n",
       "e878a03f-b309-4197-8e87-40b42e5c431d            m                True  "
      ]
     },
     "execution_count": 147,
     "metadata": {},
     "output_type": "execute_result"
    }
   ],
   "source": [
    "voices = pd.read_csv(gemaps_voices_csv, index_col=\"clip_id\")\n",
    "features = pd.read_csv(gemaps_features_csv, index_col=\"clip_id\")\n",
    "voices.head()"
   ]
  },
  {
   "cell_type": "code",
   "execution_count": 148,
   "id": "f571526d",
   "metadata": {},
   "outputs": [
    {
     "data": {
      "text/html": [
       "<div>\n",
       "<style scoped>\n",
       "    .dataframe tbody tr th:only-of-type {\n",
       "        vertical-align: middle;\n",
       "    }\n",
       "\n",
       "    .dataframe tbody tr th {\n",
       "        vertical-align: top;\n",
       "    }\n",
       "\n",
       "    .dataframe thead th {\n",
       "        text-align: right;\n",
       "    }\n",
       "</style>\n",
       "<table border=\"1\" class=\"dataframe\">\n",
       "  <thead>\n",
       "    <tr style=\"text-align: right;\">\n",
       "      <th></th>\n",
       "      <th>F0semitoneFrom27.5Hz_sma3nz_amean</th>\n",
       "      <th>F0semitoneFrom27.5Hz_sma3nz_stddevNorm</th>\n",
       "      <th>F0semitoneFrom27.5Hz_sma3nz_percentile20.0</th>\n",
       "      <th>F0semitoneFrom27.5Hz_sma3nz_percentile50.0</th>\n",
       "      <th>F0semitoneFrom27.5Hz_sma3nz_percentile80.0</th>\n",
       "      <th>F0semitoneFrom27.5Hz_sma3nz_pctlrange0-2</th>\n",
       "      <th>F0semitoneFrom27.5Hz_sma3nz_meanRisingSlope</th>\n",
       "      <th>F0semitoneFrom27.5Hz_sma3nz_stddevRisingSlope</th>\n",
       "      <th>F0semitoneFrom27.5Hz_sma3nz_meanFallingSlope</th>\n",
       "      <th>F0semitoneFrom27.5Hz_sma3nz_stddevFallingSlope</th>\n",
       "      <th>...</th>\n",
       "      <th>slopeUV0-500_sma3nz_amean</th>\n",
       "      <th>slopeUV500-1500_sma3nz_amean</th>\n",
       "      <th>spectralFluxUV_sma3nz_amean</th>\n",
       "      <th>loudnessPeaksPerSec</th>\n",
       "      <th>VoicedSegmentsPerSec</th>\n",
       "      <th>MeanVoicedSegmentLengthSec</th>\n",
       "      <th>StddevVoicedSegmentLengthSec</th>\n",
       "      <th>MeanUnvoicedSegmentLength</th>\n",
       "      <th>StddevUnvoicedSegmentLength</th>\n",
       "      <th>equivalentSoundLevel_dBp</th>\n",
       "    </tr>\n",
       "    <tr>\n",
       "      <th>clip_id</th>\n",
       "      <th></th>\n",
       "      <th></th>\n",
       "      <th></th>\n",
       "      <th></th>\n",
       "      <th></th>\n",
       "      <th></th>\n",
       "      <th></th>\n",
       "      <th></th>\n",
       "      <th></th>\n",
       "      <th></th>\n",
       "      <th></th>\n",
       "      <th></th>\n",
       "      <th></th>\n",
       "      <th></th>\n",
       "      <th></th>\n",
       "      <th></th>\n",
       "      <th></th>\n",
       "      <th></th>\n",
       "      <th></th>\n",
       "      <th></th>\n",
       "      <th></th>\n",
       "    </tr>\n",
       "  </thead>\n",
       "  <tbody>\n",
       "    <tr>\n",
       "      <th>3d060d83-adbd-44e0-afce-b826aa5381b1</th>\n",
       "      <td>22.179844</td>\n",
       "      <td>0.339790</td>\n",
       "      <td>18.409922</td>\n",
       "      <td>20.131195</td>\n",
       "      <td>23.650680</td>\n",
       "      <td>5.240759</td>\n",
       "      <td>266.153960</td>\n",
       "      <td>232.235800</td>\n",
       "      <td>103.508570</td>\n",
       "      <td>71.248960</td>\n",
       "      <td>...</td>\n",
       "      <td>0.031013</td>\n",
       "      <td>0.002345</td>\n",
       "      <td>0.413786</td>\n",
       "      <td>4.216867</td>\n",
       "      <td>2.231237</td>\n",
       "      <td>0.266364</td>\n",
       "      <td>0.171213</td>\n",
       "      <td>0.193333</td>\n",
       "      <td>0.241707</td>\n",
       "      <td>-21.007450</td>\n",
       "    </tr>\n",
       "    <tr>\n",
       "      <th>ecd475b2-3015-4ce5-a2fe-81534bf945b0</th>\n",
       "      <td>24.322006</td>\n",
       "      <td>0.580217</td>\n",
       "      <td>16.880875</td>\n",
       "      <td>18.579967</td>\n",
       "      <td>21.307907</td>\n",
       "      <td>4.427032</td>\n",
       "      <td>398.797424</td>\n",
       "      <td>396.038849</td>\n",
       "      <td>428.149078</td>\n",
       "      <td>629.003845</td>\n",
       "      <td>...</td>\n",
       "      <td>0.017557</td>\n",
       "      <td>-0.001341</td>\n",
       "      <td>0.670560</td>\n",
       "      <td>4.521739</td>\n",
       "      <td>4.035088</td>\n",
       "      <td>0.130870</td>\n",
       "      <td>0.100733</td>\n",
       "      <td>0.133750</td>\n",
       "      <td>0.138829</td>\n",
       "      <td>-22.155727</td>\n",
       "    </tr>\n",
       "    <tr>\n",
       "      <th>01374f0c-ff48-4663-a42d-08c4f184e299</th>\n",
       "      <td>24.174156</td>\n",
       "      <td>0.338320</td>\n",
       "      <td>19.873123</td>\n",
       "      <td>21.779720</td>\n",
       "      <td>25.701950</td>\n",
       "      <td>5.828827</td>\n",
       "      <td>657.793335</td>\n",
       "      <td>725.710876</td>\n",
       "      <td>132.189041</td>\n",
       "      <td>112.811546</td>\n",
       "      <td>...</td>\n",
       "      <td>0.035306</td>\n",
       "      <td>-0.002314</td>\n",
       "      <td>0.359165</td>\n",
       "      <td>3.954802</td>\n",
       "      <td>3.612167</td>\n",
       "      <td>0.151053</td>\n",
       "      <td>0.126195</td>\n",
       "      <td>0.110000</td>\n",
       "      <td>0.161417</td>\n",
       "      <td>-21.083681</td>\n",
       "    </tr>\n",
       "    <tr>\n",
       "      <th>4c985ac7-9e16-4dc9-9c45-2127a16fe7fe</th>\n",
       "      <td>24.890310</td>\n",
       "      <td>0.161558</td>\n",
       "      <td>22.497490</td>\n",
       "      <td>26.137222</td>\n",
       "      <td>27.981504</td>\n",
       "      <td>5.484015</td>\n",
       "      <td>115.091469</td>\n",
       "      <td>60.737309</td>\n",
       "      <td>107.501930</td>\n",
       "      <td>79.021454</td>\n",
       "      <td>...</td>\n",
       "      <td>0.075598</td>\n",
       "      <td>0.002145</td>\n",
       "      <td>0.150634</td>\n",
       "      <td>2.822581</td>\n",
       "      <td>1.239670</td>\n",
       "      <td>0.556667</td>\n",
       "      <td>0.332499</td>\n",
       "      <td>0.170000</td>\n",
       "      <td>0.123491</td>\n",
       "      <td>-18.839119</td>\n",
       "    </tr>\n",
       "    <tr>\n",
       "      <th>e878a03f-b309-4197-8e87-40b42e5c431d</th>\n",
       "      <td>30.156759</td>\n",
       "      <td>0.309775</td>\n",
       "      <td>23.325962</td>\n",
       "      <td>32.324020</td>\n",
       "      <td>34.654331</td>\n",
       "      <td>11.328369</td>\n",
       "      <td>81.758034</td>\n",
       "      <td>38.350334</td>\n",
       "      <td>310.445709</td>\n",
       "      <td>94.248108</td>\n",
       "      <td>...</td>\n",
       "      <td>0.064182</td>\n",
       "      <td>0.021776</td>\n",
       "      <td>0.155598</td>\n",
       "      <td>2.553192</td>\n",
       "      <td>2.178649</td>\n",
       "      <td>0.129000</td>\n",
       "      <td>0.117000</td>\n",
       "      <td>0.308000</td>\n",
       "      <td>0.364357</td>\n",
       "      <td>-28.008059</td>\n",
       "    </tr>\n",
       "  </tbody>\n",
       "</table>\n",
       "<p>5 rows × 88 columns</p>\n",
       "</div>"
      ],
      "text/plain": [
       "                                      F0semitoneFrom27.5Hz_sma3nz_amean  \\\n",
       "clip_id                                                                   \n",
       "3d060d83-adbd-44e0-afce-b826aa5381b1                          22.179844   \n",
       "ecd475b2-3015-4ce5-a2fe-81534bf945b0                          24.322006   \n",
       "01374f0c-ff48-4663-a42d-08c4f184e299                          24.174156   \n",
       "4c985ac7-9e16-4dc9-9c45-2127a16fe7fe                          24.890310   \n",
       "e878a03f-b309-4197-8e87-40b42e5c431d                          30.156759   \n",
       "\n",
       "                                      F0semitoneFrom27.5Hz_sma3nz_stddevNorm  \\\n",
       "clip_id                                                                        \n",
       "3d060d83-adbd-44e0-afce-b826aa5381b1                                0.339790   \n",
       "ecd475b2-3015-4ce5-a2fe-81534bf945b0                                0.580217   \n",
       "01374f0c-ff48-4663-a42d-08c4f184e299                                0.338320   \n",
       "4c985ac7-9e16-4dc9-9c45-2127a16fe7fe                                0.161558   \n",
       "e878a03f-b309-4197-8e87-40b42e5c431d                                0.309775   \n",
       "\n",
       "                                      F0semitoneFrom27.5Hz_sma3nz_percentile20.0  \\\n",
       "clip_id                                                                            \n",
       "3d060d83-adbd-44e0-afce-b826aa5381b1                                   18.409922   \n",
       "ecd475b2-3015-4ce5-a2fe-81534bf945b0                                   16.880875   \n",
       "01374f0c-ff48-4663-a42d-08c4f184e299                                   19.873123   \n",
       "4c985ac7-9e16-4dc9-9c45-2127a16fe7fe                                   22.497490   \n",
       "e878a03f-b309-4197-8e87-40b42e5c431d                                   23.325962   \n",
       "\n",
       "                                      F0semitoneFrom27.5Hz_sma3nz_percentile50.0  \\\n",
       "clip_id                                                                            \n",
       "3d060d83-adbd-44e0-afce-b826aa5381b1                                   20.131195   \n",
       "ecd475b2-3015-4ce5-a2fe-81534bf945b0                                   18.579967   \n",
       "01374f0c-ff48-4663-a42d-08c4f184e299                                   21.779720   \n",
       "4c985ac7-9e16-4dc9-9c45-2127a16fe7fe                                   26.137222   \n",
       "e878a03f-b309-4197-8e87-40b42e5c431d                                   32.324020   \n",
       "\n",
       "                                      F0semitoneFrom27.5Hz_sma3nz_percentile80.0  \\\n",
       "clip_id                                                                            \n",
       "3d060d83-adbd-44e0-afce-b826aa5381b1                                   23.650680   \n",
       "ecd475b2-3015-4ce5-a2fe-81534bf945b0                                   21.307907   \n",
       "01374f0c-ff48-4663-a42d-08c4f184e299                                   25.701950   \n",
       "4c985ac7-9e16-4dc9-9c45-2127a16fe7fe                                   27.981504   \n",
       "e878a03f-b309-4197-8e87-40b42e5c431d                                   34.654331   \n",
       "\n",
       "                                      F0semitoneFrom27.5Hz_sma3nz_pctlrange0-2  \\\n",
       "clip_id                                                                          \n",
       "3d060d83-adbd-44e0-afce-b826aa5381b1                                  5.240759   \n",
       "ecd475b2-3015-4ce5-a2fe-81534bf945b0                                  4.427032   \n",
       "01374f0c-ff48-4663-a42d-08c4f184e299                                  5.828827   \n",
       "4c985ac7-9e16-4dc9-9c45-2127a16fe7fe                                  5.484015   \n",
       "e878a03f-b309-4197-8e87-40b42e5c431d                                 11.328369   \n",
       "\n",
       "                                      F0semitoneFrom27.5Hz_sma3nz_meanRisingSlope  \\\n",
       "clip_id                                                                             \n",
       "3d060d83-adbd-44e0-afce-b826aa5381b1                                   266.153960   \n",
       "ecd475b2-3015-4ce5-a2fe-81534bf945b0                                   398.797424   \n",
       "01374f0c-ff48-4663-a42d-08c4f184e299                                   657.793335   \n",
       "4c985ac7-9e16-4dc9-9c45-2127a16fe7fe                                   115.091469   \n",
       "e878a03f-b309-4197-8e87-40b42e5c431d                                    81.758034   \n",
       "\n",
       "                                      F0semitoneFrom27.5Hz_sma3nz_stddevRisingSlope  \\\n",
       "clip_id                                                                               \n",
       "3d060d83-adbd-44e0-afce-b826aa5381b1                                     232.235800   \n",
       "ecd475b2-3015-4ce5-a2fe-81534bf945b0                                     396.038849   \n",
       "01374f0c-ff48-4663-a42d-08c4f184e299                                     725.710876   \n",
       "4c985ac7-9e16-4dc9-9c45-2127a16fe7fe                                      60.737309   \n",
       "e878a03f-b309-4197-8e87-40b42e5c431d                                      38.350334   \n",
       "\n",
       "                                      F0semitoneFrom27.5Hz_sma3nz_meanFallingSlope  \\\n",
       "clip_id                                                                              \n",
       "3d060d83-adbd-44e0-afce-b826aa5381b1                                    103.508570   \n",
       "ecd475b2-3015-4ce5-a2fe-81534bf945b0                                    428.149078   \n",
       "01374f0c-ff48-4663-a42d-08c4f184e299                                    132.189041   \n",
       "4c985ac7-9e16-4dc9-9c45-2127a16fe7fe                                    107.501930   \n",
       "e878a03f-b309-4197-8e87-40b42e5c431d                                    310.445709   \n",
       "\n",
       "                                      F0semitoneFrom27.5Hz_sma3nz_stddevFallingSlope  \\\n",
       "clip_id                                                                                \n",
       "3d060d83-adbd-44e0-afce-b826aa5381b1                                       71.248960   \n",
       "ecd475b2-3015-4ce5-a2fe-81534bf945b0                                      629.003845   \n",
       "01374f0c-ff48-4663-a42d-08c4f184e299                                      112.811546   \n",
       "4c985ac7-9e16-4dc9-9c45-2127a16fe7fe                                       79.021454   \n",
       "e878a03f-b309-4197-8e87-40b42e5c431d                                       94.248108   \n",
       "\n",
       "                                      ...  slopeUV0-500_sma3nz_amean  \\\n",
       "clip_id                               ...                              \n",
       "3d060d83-adbd-44e0-afce-b826aa5381b1  ...                   0.031013   \n",
       "ecd475b2-3015-4ce5-a2fe-81534bf945b0  ...                   0.017557   \n",
       "01374f0c-ff48-4663-a42d-08c4f184e299  ...                   0.035306   \n",
       "4c985ac7-9e16-4dc9-9c45-2127a16fe7fe  ...                   0.075598   \n",
       "e878a03f-b309-4197-8e87-40b42e5c431d  ...                   0.064182   \n",
       "\n",
       "                                      slopeUV500-1500_sma3nz_amean  \\\n",
       "clip_id                                                              \n",
       "3d060d83-adbd-44e0-afce-b826aa5381b1                      0.002345   \n",
       "ecd475b2-3015-4ce5-a2fe-81534bf945b0                     -0.001341   \n",
       "01374f0c-ff48-4663-a42d-08c4f184e299                     -0.002314   \n",
       "4c985ac7-9e16-4dc9-9c45-2127a16fe7fe                      0.002145   \n",
       "e878a03f-b309-4197-8e87-40b42e5c431d                      0.021776   \n",
       "\n",
       "                                      spectralFluxUV_sma3nz_amean  \\\n",
       "clip_id                                                             \n",
       "3d060d83-adbd-44e0-afce-b826aa5381b1                     0.413786   \n",
       "ecd475b2-3015-4ce5-a2fe-81534bf945b0                     0.670560   \n",
       "01374f0c-ff48-4663-a42d-08c4f184e299                     0.359165   \n",
       "4c985ac7-9e16-4dc9-9c45-2127a16fe7fe                     0.150634   \n",
       "e878a03f-b309-4197-8e87-40b42e5c431d                     0.155598   \n",
       "\n",
       "                                      loudnessPeaksPerSec  \\\n",
       "clip_id                                                     \n",
       "3d060d83-adbd-44e0-afce-b826aa5381b1             4.216867   \n",
       "ecd475b2-3015-4ce5-a2fe-81534bf945b0             4.521739   \n",
       "01374f0c-ff48-4663-a42d-08c4f184e299             3.954802   \n",
       "4c985ac7-9e16-4dc9-9c45-2127a16fe7fe             2.822581   \n",
       "e878a03f-b309-4197-8e87-40b42e5c431d             2.553192   \n",
       "\n",
       "                                      VoicedSegmentsPerSec  \\\n",
       "clip_id                                                      \n",
       "3d060d83-adbd-44e0-afce-b826aa5381b1              2.231237   \n",
       "ecd475b2-3015-4ce5-a2fe-81534bf945b0              4.035088   \n",
       "01374f0c-ff48-4663-a42d-08c4f184e299              3.612167   \n",
       "4c985ac7-9e16-4dc9-9c45-2127a16fe7fe              1.239670   \n",
       "e878a03f-b309-4197-8e87-40b42e5c431d              2.178649   \n",
       "\n",
       "                                      MeanVoicedSegmentLengthSec  \\\n",
       "clip_id                                                            \n",
       "3d060d83-adbd-44e0-afce-b826aa5381b1                    0.266364   \n",
       "ecd475b2-3015-4ce5-a2fe-81534bf945b0                    0.130870   \n",
       "01374f0c-ff48-4663-a42d-08c4f184e299                    0.151053   \n",
       "4c985ac7-9e16-4dc9-9c45-2127a16fe7fe                    0.556667   \n",
       "e878a03f-b309-4197-8e87-40b42e5c431d                    0.129000   \n",
       "\n",
       "                                      StddevVoicedSegmentLengthSec  \\\n",
       "clip_id                                                              \n",
       "3d060d83-adbd-44e0-afce-b826aa5381b1                      0.171213   \n",
       "ecd475b2-3015-4ce5-a2fe-81534bf945b0                      0.100733   \n",
       "01374f0c-ff48-4663-a42d-08c4f184e299                      0.126195   \n",
       "4c985ac7-9e16-4dc9-9c45-2127a16fe7fe                      0.332499   \n",
       "e878a03f-b309-4197-8e87-40b42e5c431d                      0.117000   \n",
       "\n",
       "                                      MeanUnvoicedSegmentLength  \\\n",
       "clip_id                                                           \n",
       "3d060d83-adbd-44e0-afce-b826aa5381b1                   0.193333   \n",
       "ecd475b2-3015-4ce5-a2fe-81534bf945b0                   0.133750   \n",
       "01374f0c-ff48-4663-a42d-08c4f184e299                   0.110000   \n",
       "4c985ac7-9e16-4dc9-9c45-2127a16fe7fe                   0.170000   \n",
       "e878a03f-b309-4197-8e87-40b42e5c431d                   0.308000   \n",
       "\n",
       "                                      StddevUnvoicedSegmentLength  \\\n",
       "clip_id                                                             \n",
       "3d060d83-adbd-44e0-afce-b826aa5381b1                     0.241707   \n",
       "ecd475b2-3015-4ce5-a2fe-81534bf945b0                     0.138829   \n",
       "01374f0c-ff48-4663-a42d-08c4f184e299                     0.161417   \n",
       "4c985ac7-9e16-4dc9-9c45-2127a16fe7fe                     0.123491   \n",
       "e878a03f-b309-4197-8e87-40b42e5c431d                     0.364357   \n",
       "\n",
       "                                      equivalentSoundLevel_dBp  \n",
       "clip_id                                                         \n",
       "3d060d83-adbd-44e0-afce-b826aa5381b1                -21.007450  \n",
       "ecd475b2-3015-4ce5-a2fe-81534bf945b0                -22.155727  \n",
       "01374f0c-ff48-4663-a42d-08c4f184e299                -21.083681  \n",
       "4c985ac7-9e16-4dc9-9c45-2127a16fe7fe                -18.839119  \n",
       "e878a03f-b309-4197-8e87-40b42e5c431d                -28.008059  \n",
       "\n",
       "[5 rows x 88 columns]"
      ]
     },
     "execution_count": 148,
     "metadata": {},
     "output_type": "execute_result"
    }
   ],
   "source": [
    "features.head()"
   ]
  },
  {
   "cell_type": "code",
   "execution_count": 149,
   "id": "10b1e2cc",
   "metadata": {},
   "outputs": [
    {
     "data": {
      "text/plain": [
       "voice_gender\n",
       "m    102968\n",
       "f    102968\n",
       "Name: count, dtype: int64"
      ]
     },
     "execution_count": 149,
     "metadata": {},
     "output_type": "execute_result"
    }
   ],
   "source": [
    "voices.voice_gender.value_counts()"
   ]
  },
  {
   "cell_type": "markdown",
   "id": "55ac356e",
   "metadata": {},
   "source": [
    "# Time for AI Magic!\n",
    "\n",
    "Now that there are features and labels we can use the power of AI!\n",
    "\n",
    "The main goal for this intermediate project is to find relevant audio features from a voice, that can determine the gender of a person.\n",
    "\n",
    "To achive this, we first need a machine, that can use a set of given audio features to determine the gender of a person.\n",
    "\n",
    "If this step works, we know, that some of the features may actually hold some informations that can reveal the gender of a person.\n",
    "\n",
    "Later we'll use this machine to determine, what features that may be..."
   ]
  },
  {
   "cell_type": "markdown",
   "id": "493fe57f",
   "metadata": {},
   "source": [
    "## Binary Classification\n",
    "\n",
    "Eventhough we have the list of voices and features, we cannot directly train an AI model.\n",
    "\n",
    "We need to create a task, that a machine is able to understand.\n",
    "\n",
    "In our case with the gender classification the task is the following:\n",
    "*\"With the given set of 88 float value features, predict the possiblity of the voice being either male or female.\"*\n",
    "\n",
    "To make this task easier we first reduce the two gender classes into a single one: male (1) or female (0)\n",
    "\n",
    "Then we organize the data according to standard data science procedure:\n",
    "\n"
   ]
  },
  {
   "cell_type": "code",
   "execution_count": 150,
   "id": "109be00c",
   "metadata": {},
   "outputs": [],
   "source": [
    "data = pd.merge(voices[[\"voice_gender\"]], features, on=\"clip_id\")"
   ]
  },
  {
   "cell_type": "code",
   "execution_count": 151,
   "id": "ab41325f",
   "metadata": {},
   "outputs": [],
   "source": [
    "data[\"voice_gender_m\"] = data[\"voice_gender\"].apply(lambda x: 1 if x == \"m\" else 0)\n",
    "data.drop(columns=\"voice_gender\", inplace=True)"
   ]
  },
  {
   "cell_type": "code",
   "execution_count": 152,
   "id": "9fcd5953",
   "metadata": {},
   "outputs": [],
   "source": [
    "X = data.drop(columns=\"voice_gender_m\")\n",
    "y = data[\"voice_gender_m\"]"
   ]
  },
  {
   "cell_type": "code",
   "execution_count": 153,
   "id": "6ede2402",
   "metadata": {},
   "outputs": [
    {
     "data": {
      "text/html": [
       "<div>\n",
       "<style scoped>\n",
       "    .dataframe tbody tr th:only-of-type {\n",
       "        vertical-align: middle;\n",
       "    }\n",
       "\n",
       "    .dataframe tbody tr th {\n",
       "        vertical-align: top;\n",
       "    }\n",
       "\n",
       "    .dataframe thead th {\n",
       "        text-align: right;\n",
       "    }\n",
       "</style>\n",
       "<table border=\"1\" class=\"dataframe\">\n",
       "  <thead>\n",
       "    <tr style=\"text-align: right;\">\n",
       "      <th></th>\n",
       "      <th>F0semitoneFrom27.5Hz_sma3nz_amean</th>\n",
       "      <th>F0semitoneFrom27.5Hz_sma3nz_stddevNorm</th>\n",
       "      <th>F0semitoneFrom27.5Hz_sma3nz_percentile20.0</th>\n",
       "      <th>F0semitoneFrom27.5Hz_sma3nz_percentile50.0</th>\n",
       "      <th>F0semitoneFrom27.5Hz_sma3nz_percentile80.0</th>\n",
       "      <th>F0semitoneFrom27.5Hz_sma3nz_pctlrange0-2</th>\n",
       "      <th>F0semitoneFrom27.5Hz_sma3nz_meanRisingSlope</th>\n",
       "      <th>F0semitoneFrom27.5Hz_sma3nz_stddevRisingSlope</th>\n",
       "      <th>F0semitoneFrom27.5Hz_sma3nz_meanFallingSlope</th>\n",
       "      <th>F0semitoneFrom27.5Hz_sma3nz_stddevFallingSlope</th>\n",
       "      <th>...</th>\n",
       "      <th>slopeUV0-500_sma3nz_amean</th>\n",
       "      <th>slopeUV500-1500_sma3nz_amean</th>\n",
       "      <th>spectralFluxUV_sma3nz_amean</th>\n",
       "      <th>loudnessPeaksPerSec</th>\n",
       "      <th>VoicedSegmentsPerSec</th>\n",
       "      <th>MeanVoicedSegmentLengthSec</th>\n",
       "      <th>StddevVoicedSegmentLengthSec</th>\n",
       "      <th>MeanUnvoicedSegmentLength</th>\n",
       "      <th>StddevUnvoicedSegmentLength</th>\n",
       "      <th>equivalentSoundLevel_dBp</th>\n",
       "    </tr>\n",
       "    <tr>\n",
       "      <th>clip_id</th>\n",
       "      <th></th>\n",
       "      <th></th>\n",
       "      <th></th>\n",
       "      <th></th>\n",
       "      <th></th>\n",
       "      <th></th>\n",
       "      <th></th>\n",
       "      <th></th>\n",
       "      <th></th>\n",
       "      <th></th>\n",
       "      <th></th>\n",
       "      <th></th>\n",
       "      <th></th>\n",
       "      <th></th>\n",
       "      <th></th>\n",
       "      <th></th>\n",
       "      <th></th>\n",
       "      <th></th>\n",
       "      <th></th>\n",
       "      <th></th>\n",
       "      <th></th>\n",
       "    </tr>\n",
       "  </thead>\n",
       "  <tbody>\n",
       "    <tr>\n",
       "      <th>3d060d83-adbd-44e0-afce-b826aa5381b1</th>\n",
       "      <td>22.179844</td>\n",
       "      <td>0.339790</td>\n",
       "      <td>18.409922</td>\n",
       "      <td>20.131195</td>\n",
       "      <td>23.650680</td>\n",
       "      <td>5.240759</td>\n",
       "      <td>266.153960</td>\n",
       "      <td>232.235800</td>\n",
       "      <td>103.508570</td>\n",
       "      <td>71.248960</td>\n",
       "      <td>...</td>\n",
       "      <td>0.031013</td>\n",
       "      <td>0.002345</td>\n",
       "      <td>0.413786</td>\n",
       "      <td>4.216867</td>\n",
       "      <td>2.231237</td>\n",
       "      <td>0.266364</td>\n",
       "      <td>0.171213</td>\n",
       "      <td>0.193333</td>\n",
       "      <td>0.241707</td>\n",
       "      <td>-21.007450</td>\n",
       "    </tr>\n",
       "    <tr>\n",
       "      <th>ecd475b2-3015-4ce5-a2fe-81534bf945b0</th>\n",
       "      <td>24.322006</td>\n",
       "      <td>0.580217</td>\n",
       "      <td>16.880875</td>\n",
       "      <td>18.579967</td>\n",
       "      <td>21.307907</td>\n",
       "      <td>4.427032</td>\n",
       "      <td>398.797424</td>\n",
       "      <td>396.038849</td>\n",
       "      <td>428.149078</td>\n",
       "      <td>629.003845</td>\n",
       "      <td>...</td>\n",
       "      <td>0.017557</td>\n",
       "      <td>-0.001341</td>\n",
       "      <td>0.670560</td>\n",
       "      <td>4.521739</td>\n",
       "      <td>4.035088</td>\n",
       "      <td>0.130870</td>\n",
       "      <td>0.100733</td>\n",
       "      <td>0.133750</td>\n",
       "      <td>0.138829</td>\n",
       "      <td>-22.155727</td>\n",
       "    </tr>\n",
       "    <tr>\n",
       "      <th>01374f0c-ff48-4663-a42d-08c4f184e299</th>\n",
       "      <td>24.174156</td>\n",
       "      <td>0.338320</td>\n",
       "      <td>19.873123</td>\n",
       "      <td>21.779720</td>\n",
       "      <td>25.701950</td>\n",
       "      <td>5.828827</td>\n",
       "      <td>657.793335</td>\n",
       "      <td>725.710876</td>\n",
       "      <td>132.189041</td>\n",
       "      <td>112.811546</td>\n",
       "      <td>...</td>\n",
       "      <td>0.035306</td>\n",
       "      <td>-0.002314</td>\n",
       "      <td>0.359165</td>\n",
       "      <td>3.954802</td>\n",
       "      <td>3.612167</td>\n",
       "      <td>0.151053</td>\n",
       "      <td>0.126195</td>\n",
       "      <td>0.110000</td>\n",
       "      <td>0.161417</td>\n",
       "      <td>-21.083681</td>\n",
       "    </tr>\n",
       "    <tr>\n",
       "      <th>4c985ac7-9e16-4dc9-9c45-2127a16fe7fe</th>\n",
       "      <td>24.890310</td>\n",
       "      <td>0.161558</td>\n",
       "      <td>22.497490</td>\n",
       "      <td>26.137222</td>\n",
       "      <td>27.981504</td>\n",
       "      <td>5.484015</td>\n",
       "      <td>115.091469</td>\n",
       "      <td>60.737309</td>\n",
       "      <td>107.501930</td>\n",
       "      <td>79.021454</td>\n",
       "      <td>...</td>\n",
       "      <td>0.075598</td>\n",
       "      <td>0.002145</td>\n",
       "      <td>0.150634</td>\n",
       "      <td>2.822581</td>\n",
       "      <td>1.239670</td>\n",
       "      <td>0.556667</td>\n",
       "      <td>0.332499</td>\n",
       "      <td>0.170000</td>\n",
       "      <td>0.123491</td>\n",
       "      <td>-18.839119</td>\n",
       "    </tr>\n",
       "    <tr>\n",
       "      <th>e878a03f-b309-4197-8e87-40b42e5c431d</th>\n",
       "      <td>30.156759</td>\n",
       "      <td>0.309775</td>\n",
       "      <td>23.325962</td>\n",
       "      <td>32.324020</td>\n",
       "      <td>34.654331</td>\n",
       "      <td>11.328369</td>\n",
       "      <td>81.758034</td>\n",
       "      <td>38.350334</td>\n",
       "      <td>310.445709</td>\n",
       "      <td>94.248108</td>\n",
       "      <td>...</td>\n",
       "      <td>0.064182</td>\n",
       "      <td>0.021776</td>\n",
       "      <td>0.155598</td>\n",
       "      <td>2.553192</td>\n",
       "      <td>2.178649</td>\n",
       "      <td>0.129000</td>\n",
       "      <td>0.117000</td>\n",
       "      <td>0.308000</td>\n",
       "      <td>0.364357</td>\n",
       "      <td>-28.008059</td>\n",
       "    </tr>\n",
       "  </tbody>\n",
       "</table>\n",
       "<p>5 rows × 88 columns</p>\n",
       "</div>"
      ],
      "text/plain": [
       "                                      F0semitoneFrom27.5Hz_sma3nz_amean  \\\n",
       "clip_id                                                                   \n",
       "3d060d83-adbd-44e0-afce-b826aa5381b1                          22.179844   \n",
       "ecd475b2-3015-4ce5-a2fe-81534bf945b0                          24.322006   \n",
       "01374f0c-ff48-4663-a42d-08c4f184e299                          24.174156   \n",
       "4c985ac7-9e16-4dc9-9c45-2127a16fe7fe                          24.890310   \n",
       "e878a03f-b309-4197-8e87-40b42e5c431d                          30.156759   \n",
       "\n",
       "                                      F0semitoneFrom27.5Hz_sma3nz_stddevNorm  \\\n",
       "clip_id                                                                        \n",
       "3d060d83-adbd-44e0-afce-b826aa5381b1                                0.339790   \n",
       "ecd475b2-3015-4ce5-a2fe-81534bf945b0                                0.580217   \n",
       "01374f0c-ff48-4663-a42d-08c4f184e299                                0.338320   \n",
       "4c985ac7-9e16-4dc9-9c45-2127a16fe7fe                                0.161558   \n",
       "e878a03f-b309-4197-8e87-40b42e5c431d                                0.309775   \n",
       "\n",
       "                                      F0semitoneFrom27.5Hz_sma3nz_percentile20.0  \\\n",
       "clip_id                                                                            \n",
       "3d060d83-adbd-44e0-afce-b826aa5381b1                                   18.409922   \n",
       "ecd475b2-3015-4ce5-a2fe-81534bf945b0                                   16.880875   \n",
       "01374f0c-ff48-4663-a42d-08c4f184e299                                   19.873123   \n",
       "4c985ac7-9e16-4dc9-9c45-2127a16fe7fe                                   22.497490   \n",
       "e878a03f-b309-4197-8e87-40b42e5c431d                                   23.325962   \n",
       "\n",
       "                                      F0semitoneFrom27.5Hz_sma3nz_percentile50.0  \\\n",
       "clip_id                                                                            \n",
       "3d060d83-adbd-44e0-afce-b826aa5381b1                                   20.131195   \n",
       "ecd475b2-3015-4ce5-a2fe-81534bf945b0                                   18.579967   \n",
       "01374f0c-ff48-4663-a42d-08c4f184e299                                   21.779720   \n",
       "4c985ac7-9e16-4dc9-9c45-2127a16fe7fe                                   26.137222   \n",
       "e878a03f-b309-4197-8e87-40b42e5c431d                                   32.324020   \n",
       "\n",
       "                                      F0semitoneFrom27.5Hz_sma3nz_percentile80.0  \\\n",
       "clip_id                                                                            \n",
       "3d060d83-adbd-44e0-afce-b826aa5381b1                                   23.650680   \n",
       "ecd475b2-3015-4ce5-a2fe-81534bf945b0                                   21.307907   \n",
       "01374f0c-ff48-4663-a42d-08c4f184e299                                   25.701950   \n",
       "4c985ac7-9e16-4dc9-9c45-2127a16fe7fe                                   27.981504   \n",
       "e878a03f-b309-4197-8e87-40b42e5c431d                                   34.654331   \n",
       "\n",
       "                                      F0semitoneFrom27.5Hz_sma3nz_pctlrange0-2  \\\n",
       "clip_id                                                                          \n",
       "3d060d83-adbd-44e0-afce-b826aa5381b1                                  5.240759   \n",
       "ecd475b2-3015-4ce5-a2fe-81534bf945b0                                  4.427032   \n",
       "01374f0c-ff48-4663-a42d-08c4f184e299                                  5.828827   \n",
       "4c985ac7-9e16-4dc9-9c45-2127a16fe7fe                                  5.484015   \n",
       "e878a03f-b309-4197-8e87-40b42e5c431d                                 11.328369   \n",
       "\n",
       "                                      F0semitoneFrom27.5Hz_sma3nz_meanRisingSlope  \\\n",
       "clip_id                                                                             \n",
       "3d060d83-adbd-44e0-afce-b826aa5381b1                                   266.153960   \n",
       "ecd475b2-3015-4ce5-a2fe-81534bf945b0                                   398.797424   \n",
       "01374f0c-ff48-4663-a42d-08c4f184e299                                   657.793335   \n",
       "4c985ac7-9e16-4dc9-9c45-2127a16fe7fe                                   115.091469   \n",
       "e878a03f-b309-4197-8e87-40b42e5c431d                                    81.758034   \n",
       "\n",
       "                                      F0semitoneFrom27.5Hz_sma3nz_stddevRisingSlope  \\\n",
       "clip_id                                                                               \n",
       "3d060d83-adbd-44e0-afce-b826aa5381b1                                     232.235800   \n",
       "ecd475b2-3015-4ce5-a2fe-81534bf945b0                                     396.038849   \n",
       "01374f0c-ff48-4663-a42d-08c4f184e299                                     725.710876   \n",
       "4c985ac7-9e16-4dc9-9c45-2127a16fe7fe                                      60.737309   \n",
       "e878a03f-b309-4197-8e87-40b42e5c431d                                      38.350334   \n",
       "\n",
       "                                      F0semitoneFrom27.5Hz_sma3nz_meanFallingSlope  \\\n",
       "clip_id                                                                              \n",
       "3d060d83-adbd-44e0-afce-b826aa5381b1                                    103.508570   \n",
       "ecd475b2-3015-4ce5-a2fe-81534bf945b0                                    428.149078   \n",
       "01374f0c-ff48-4663-a42d-08c4f184e299                                    132.189041   \n",
       "4c985ac7-9e16-4dc9-9c45-2127a16fe7fe                                    107.501930   \n",
       "e878a03f-b309-4197-8e87-40b42e5c431d                                    310.445709   \n",
       "\n",
       "                                      F0semitoneFrom27.5Hz_sma3nz_stddevFallingSlope  \\\n",
       "clip_id                                                                                \n",
       "3d060d83-adbd-44e0-afce-b826aa5381b1                                       71.248960   \n",
       "ecd475b2-3015-4ce5-a2fe-81534bf945b0                                      629.003845   \n",
       "01374f0c-ff48-4663-a42d-08c4f184e299                                      112.811546   \n",
       "4c985ac7-9e16-4dc9-9c45-2127a16fe7fe                                       79.021454   \n",
       "e878a03f-b309-4197-8e87-40b42e5c431d                                       94.248108   \n",
       "\n",
       "                                      ...  slopeUV0-500_sma3nz_amean  \\\n",
       "clip_id                               ...                              \n",
       "3d060d83-adbd-44e0-afce-b826aa5381b1  ...                   0.031013   \n",
       "ecd475b2-3015-4ce5-a2fe-81534bf945b0  ...                   0.017557   \n",
       "01374f0c-ff48-4663-a42d-08c4f184e299  ...                   0.035306   \n",
       "4c985ac7-9e16-4dc9-9c45-2127a16fe7fe  ...                   0.075598   \n",
       "e878a03f-b309-4197-8e87-40b42e5c431d  ...                   0.064182   \n",
       "\n",
       "                                      slopeUV500-1500_sma3nz_amean  \\\n",
       "clip_id                                                              \n",
       "3d060d83-adbd-44e0-afce-b826aa5381b1                      0.002345   \n",
       "ecd475b2-3015-4ce5-a2fe-81534bf945b0                     -0.001341   \n",
       "01374f0c-ff48-4663-a42d-08c4f184e299                     -0.002314   \n",
       "4c985ac7-9e16-4dc9-9c45-2127a16fe7fe                      0.002145   \n",
       "e878a03f-b309-4197-8e87-40b42e5c431d                      0.021776   \n",
       "\n",
       "                                      spectralFluxUV_sma3nz_amean  \\\n",
       "clip_id                                                             \n",
       "3d060d83-adbd-44e0-afce-b826aa5381b1                     0.413786   \n",
       "ecd475b2-3015-4ce5-a2fe-81534bf945b0                     0.670560   \n",
       "01374f0c-ff48-4663-a42d-08c4f184e299                     0.359165   \n",
       "4c985ac7-9e16-4dc9-9c45-2127a16fe7fe                     0.150634   \n",
       "e878a03f-b309-4197-8e87-40b42e5c431d                     0.155598   \n",
       "\n",
       "                                      loudnessPeaksPerSec  \\\n",
       "clip_id                                                     \n",
       "3d060d83-adbd-44e0-afce-b826aa5381b1             4.216867   \n",
       "ecd475b2-3015-4ce5-a2fe-81534bf945b0             4.521739   \n",
       "01374f0c-ff48-4663-a42d-08c4f184e299             3.954802   \n",
       "4c985ac7-9e16-4dc9-9c45-2127a16fe7fe             2.822581   \n",
       "e878a03f-b309-4197-8e87-40b42e5c431d             2.553192   \n",
       "\n",
       "                                      VoicedSegmentsPerSec  \\\n",
       "clip_id                                                      \n",
       "3d060d83-adbd-44e0-afce-b826aa5381b1              2.231237   \n",
       "ecd475b2-3015-4ce5-a2fe-81534bf945b0              4.035088   \n",
       "01374f0c-ff48-4663-a42d-08c4f184e299              3.612167   \n",
       "4c985ac7-9e16-4dc9-9c45-2127a16fe7fe              1.239670   \n",
       "e878a03f-b309-4197-8e87-40b42e5c431d              2.178649   \n",
       "\n",
       "                                      MeanVoicedSegmentLengthSec  \\\n",
       "clip_id                                                            \n",
       "3d060d83-adbd-44e0-afce-b826aa5381b1                    0.266364   \n",
       "ecd475b2-3015-4ce5-a2fe-81534bf945b0                    0.130870   \n",
       "01374f0c-ff48-4663-a42d-08c4f184e299                    0.151053   \n",
       "4c985ac7-9e16-4dc9-9c45-2127a16fe7fe                    0.556667   \n",
       "e878a03f-b309-4197-8e87-40b42e5c431d                    0.129000   \n",
       "\n",
       "                                      StddevVoicedSegmentLengthSec  \\\n",
       "clip_id                                                              \n",
       "3d060d83-adbd-44e0-afce-b826aa5381b1                      0.171213   \n",
       "ecd475b2-3015-4ce5-a2fe-81534bf945b0                      0.100733   \n",
       "01374f0c-ff48-4663-a42d-08c4f184e299                      0.126195   \n",
       "4c985ac7-9e16-4dc9-9c45-2127a16fe7fe                      0.332499   \n",
       "e878a03f-b309-4197-8e87-40b42e5c431d                      0.117000   \n",
       "\n",
       "                                      MeanUnvoicedSegmentLength  \\\n",
       "clip_id                                                           \n",
       "3d060d83-adbd-44e0-afce-b826aa5381b1                   0.193333   \n",
       "ecd475b2-3015-4ce5-a2fe-81534bf945b0                   0.133750   \n",
       "01374f0c-ff48-4663-a42d-08c4f184e299                   0.110000   \n",
       "4c985ac7-9e16-4dc9-9c45-2127a16fe7fe                   0.170000   \n",
       "e878a03f-b309-4197-8e87-40b42e5c431d                   0.308000   \n",
       "\n",
       "                                      StddevUnvoicedSegmentLength  \\\n",
       "clip_id                                                             \n",
       "3d060d83-adbd-44e0-afce-b826aa5381b1                     0.241707   \n",
       "ecd475b2-3015-4ce5-a2fe-81534bf945b0                     0.138829   \n",
       "01374f0c-ff48-4663-a42d-08c4f184e299                     0.161417   \n",
       "4c985ac7-9e16-4dc9-9c45-2127a16fe7fe                     0.123491   \n",
       "e878a03f-b309-4197-8e87-40b42e5c431d                     0.364357   \n",
       "\n",
       "                                      equivalentSoundLevel_dBp  \n",
       "clip_id                                                         \n",
       "3d060d83-adbd-44e0-afce-b826aa5381b1                -21.007450  \n",
       "ecd475b2-3015-4ce5-a2fe-81534bf945b0                -22.155727  \n",
       "01374f0c-ff48-4663-a42d-08c4f184e299                -21.083681  \n",
       "4c985ac7-9e16-4dc9-9c45-2127a16fe7fe                -18.839119  \n",
       "e878a03f-b309-4197-8e87-40b42e5c431d                -28.008059  \n",
       "\n",
       "[5 rows x 88 columns]"
      ]
     },
     "execution_count": 153,
     "metadata": {},
     "output_type": "execute_result"
    }
   ],
   "source": [
    "X.head()"
   ]
  },
  {
   "cell_type": "code",
   "execution_count": 154,
   "id": "f14ed09a",
   "metadata": {},
   "outputs": [
    {
     "data": {
      "text/plain": [
       "voice_gender_m\n",
       "1    102968\n",
       "0    102968\n",
       "Name: count, dtype: int64"
      ]
     },
     "execution_count": 154,
     "metadata": {},
     "output_type": "execute_result"
    }
   ],
   "source": [
    "y.value_counts()"
   ]
  },
  {
   "cell_type": "code",
   "execution_count": 155,
   "id": "e71cb810",
   "metadata": {},
   "outputs": [],
   "source": [
    "# split the data into training and testing sets\n",
    "# Eventhough we wont train the model in here, the test set will be used to evaluate the model live\n",
    "# Ignore, that the model may have seen some of the data :)\n",
    "X_train, X_test, y_train, y_test = train_test_split(X, y, test_size=0.2)"
   ]
  },
  {
   "cell_type": "code",
   "execution_count": 156,
   "id": "61ecb39c",
   "metadata": {},
   "outputs": [],
   "source": [
    "del X_train, y_train"
   ]
  },
  {
   "cell_type": "markdown",
   "id": "05ed71f2",
   "metadata": {},
   "source": [
    "## Trees\n",
    "\n",
    "The AI Model I used for this binary classification problem (male yes-no) is a Random Forest.\n",
    "Trees are still very relevant AI models, especially for tabular style input data.\n",
    "I first tried a simple DecisionTree model, but the performance was not optimal, a big RandomForest worked better\n",
    "\n",
    "The parameter for this model were not searched properly (the grid search would take too long on my pc >w<)\n",
    "\n",
    "The current model uses **500 Trees** and a **maximum depth of 5**.\n",
    "\n"
   ]
  },
  {
   "cell_type": "code",
   "execution_count": 157,
   "id": "09bbc0f5",
   "metadata": {},
   "outputs": [],
   "source": [
    "model = load(random_forest)"
   ]
  },
  {
   "cell_type": "markdown",
   "id": "74d72ccf",
   "metadata": {},
   "source": [
    "## Predictions\n",
    "\n",
    "Now we can make predictions with the trained model:"
   ]
  },
  {
   "cell_type": "code",
   "execution_count": 158,
   "id": "20f369bf",
   "metadata": {},
   "outputs": [
    {
     "data": {
      "text/plain": [
       "array([1, 1, 0, ..., 1, 0, 0])"
      ]
     },
     "execution_count": 158,
     "metadata": {},
     "output_type": "execute_result"
    }
   ],
   "source": [
    "# Binary predictions\n",
    "y_pred = model.predict(X_test)\n",
    "y_pred"
   ]
  },
  {
   "cell_type": "code",
   "execution_count": 159,
   "id": "8602982e",
   "metadata": {},
   "outputs": [
    {
     "data": {
      "text/plain": [
       "array([[0.05095483, 0.94904517],\n",
       "       [0.07313698, 0.92686302],\n",
       "       [0.94898912, 0.05101088],\n",
       "       ...,\n",
       "       [0.08563413, 0.91436587],\n",
       "       [0.92489787, 0.07510213],\n",
       "       [0.92251569, 0.07748431]])"
      ]
     },
     "execution_count": 159,
     "metadata": {},
     "output_type": "execute_result"
    }
   ],
   "source": [
    "# Probability predictions\n",
    "y_pred_proba = model.predict_proba(X_test)\n",
    "y_pred_proba"
   ]
  },
  {
   "cell_type": "markdown",
   "id": "f0abf5dc",
   "metadata": {},
   "source": [
    "## Model Evaluation\n",
    "\n",
    "Lets test how well this model performs, before we go on with the feature importance:"
   ]
  },
  {
   "cell_type": "code",
   "execution_count": 160,
   "id": "94fb6abd",
   "metadata": {},
   "outputs": [
    {
     "data": {
      "text/plain": [
       "0.920583665145188"
      ]
     },
     "execution_count": 160,
     "metadata": {},
     "output_type": "execute_result"
    }
   ],
   "source": [
    "# The % of right guesses\n",
    "accuracy_score(y_test, y_pred)"
   ]
  },
  {
   "cell_type": "code",
   "execution_count": 161,
   "id": "a34ddf5f",
   "metadata": {},
   "outputs": [
    {
     "data": {
      "image/png": "[encoded data removed]",
      "text/plain": [
       "<Figure size 640x480 with 2 Axes>"
      ]
     },
     "metadata": {},
     "output_type": "display_data"
    }
   ],
   "source": [
    "sns.heatmap((confusion_matrix(y_test, y_pred)/y_pred.shape[0]), annot=True, cmap=\"Blues\")\n",
    "plt.xlabel(\"Predicted\")\n",
    "plt.ylabel(\"Target\")\n",
    "plt.title(\"Confusion Matrix\")\n",
    "plt.show()"
   ]
  },
  {
   "cell_type": "code",
   "execution_count": 162,
   "id": "b77eefac",
   "metadata": {},
   "outputs": [
    {
     "data": {
      "image/png": "[encoded data removed]",
      "text/plain": [
       "<Figure size 400x400 with 1 Axes>"
      ]
     },
     "metadata": {},
     "output_type": "display_data"
    }
   ],
   "source": [
    "fpr, tpr, _ = roc_curve(y_test, y_pred_proba[:, 1])\n",
    "roc_auc = auc(fpr, tpr)\n",
    "fig, ax = plt.subplots(figsize=(8, 8), dpi=50)\n",
    "ax.plot(fpr, tpr, label=\"ROC curve (auc = {:.2f})\".format(roc_auc), color=\"blue\")\n",
    "ax.plot([0, 1], [0, 1], linestyle=\"--\", color=\"blue\", label=\"Random guess\")\n",
    "ax.set_xlim([0, 1])\n",
    "ax.set_ylim([0, 1])\n",
    "ax.set_xlabel(\"False Positive Rate\")\n",
    "ax.set_ylabel(\"True Positive Rate\")\n",
    "ax.set_title(\"Receiver Operating Characteristic (ROC) Curve\")\n",
    "ax.legend(loc=\"lower right\", fontsize=12)\n",
    "plt.show()"
   ]
  },
  {
   "cell_type": "code",
   "execution_count": 163,
   "id": "8a15f8da",
   "metadata": {},
   "outputs": [
    {
     "data": {
      "text/plain": [
       "0.9698396483888486"
      ]
     },
     "execution_count": 163,
     "metadata": {},
     "output_type": "execute_result"
    }
   ],
   "source": [
    "roc_auc_score(y_test, y_pred_proba[:, 1])"
   ]
  },
  {
   "cell_type": "markdown",
   "id": "3e5cc474",
   "metadata": {},
   "source": [
    "# Model Done, Main Task ahead:\n",
    "\n",
    "Now that we have a machine that can roughly determine the gender of a person by the audio features of their voice, we can identify, which features have the most influence in the decision process.\n",
    "\n",
    "The magic lies with SHAP (for trees).\n",
    "SHAP is a local model explanation tool that can later lead to global understanding."
   ]
  },
  {
   "cell_type": "markdown",
   "id": "7abe2307",
   "metadata": {},
   "source": [
    "## Local Explanations\n",
    "\n",
    "Lets see how the model thinks for a random voice:"
   ]
  },
  {
   "cell_type": "code",
   "execution_count": 165,
   "id": "00087bca",
   "metadata": {},
   "outputs": [
    {
     "data": {
      "text/plain": [
       "audio_file_name       common_voice_en_19005728.mp3\n",
       "voice_name                              20_m_391f1\n",
       "voice_age                                      NaN\n",
       "voice_age_group                                 20\n",
       "voice_gender                                     m\n",
       "features_extracted                            True\n",
       "Name: 3750990c-bf3d-409c-8c9c-d7af794954ae, dtype: object"
      ]
     },
     "execution_count": 165,
     "metadata": {},
     "output_type": "execute_result"
    }
   ],
   "source": [
    "random_voice_id = random.choice(X_test.index)\n",
    "random_voice_X = X_test.loc[random_voice_id]\n",
    "random_voice_y = y_test.loc[random_voice_id]\n",
    "random_voice_y_detailed = voices.loc[random_voice_id]\n",
    "random_voice_y_detailed"
   ]
  },
  {
   "cell_type": "code",
   "execution_count": 181,
   "id": "1ee340bf",
   "metadata": {},
   "outputs": [
    {
     "data": {
      "text/html": [
       "<div>\n",
       "<style scoped>\n",
       "    .dataframe tbody tr th:only-of-type {\n",
       "        vertical-align: middle;\n",
       "    }\n",
       "\n",
       "    .dataframe tbody tr th {\n",
       "        vertical-align: top;\n",
       "    }\n",
       "\n",
       "    .dataframe thead th {\n",
       "        text-align: right;\n",
       "    }\n",
       "</style>\n",
       "<table border=\"1\" class=\"dataframe\">\n",
       "  <thead>\n",
       "    <tr style=\"text-align: right;\">\n",
       "      <th></th>\n",
       "      <th>0</th>\n",
       "    </tr>\n",
       "  </thead>\n",
       "  <tbody>\n",
       "    <tr>\n",
       "      <th>F0semitoneFrom27.5Hz_sma3nz_percentile50.0</th>\n",
       "      <td>0.108645</td>\n",
       "    </tr>\n",
       "    <tr>\n",
       "      <th>F0semitoneFrom27.5Hz_sma3nz_percentile80.0</th>\n",
       "      <td>0.060039</td>\n",
       "    </tr>\n",
       "    <tr>\n",
       "      <th>F0semitoneFrom27.5Hz_sma3nz_amean</th>\n",
       "      <td>0.057539</td>\n",
       "    </tr>\n",
       "    <tr>\n",
       "      <th>F0semitoneFrom27.5Hz_sma3nz_percentile20.0</th>\n",
       "      <td>0.054529</td>\n",
       "    </tr>\n",
       "    <tr>\n",
       "      <th>F3frequency_sma3nz_amean</th>\n",
       "      <td>0.030098</td>\n",
       "    </tr>\n",
       "    <tr>\n",
       "      <th>slopeV0-500_sma3nz_amean</th>\n",
       "      <td>0.018203</td>\n",
       "    </tr>\n",
       "    <tr>\n",
       "      <th>F2frequency_sma3nz_amean</th>\n",
       "      <td>0.016652</td>\n",
       "    </tr>\n",
       "    <tr>\n",
       "      <th>F1frequency_sma3nz_stddevNorm</th>\n",
       "      <td>0.016481</td>\n",
       "    </tr>\n",
       "    <tr>\n",
       "      <th>mfcc4V_sma3nz_stddevNorm</th>\n",
       "      <td>0.011752</td>\n",
       "    </tr>\n",
       "    <tr>\n",
       "      <th>mfcc4V_sma3nz_amean</th>\n",
       "      <td>0.011064</td>\n",
       "    </tr>\n",
       "  </tbody>\n",
       "</table>\n",
       "</div>"
      ],
      "text/plain": [
       "                                                   0\n",
       "F0semitoneFrom27.5Hz_sma3nz_percentile50.0  0.108645\n",
       "F0semitoneFrom27.5Hz_sma3nz_percentile80.0  0.060039\n",
       "F0semitoneFrom27.5Hz_sma3nz_amean           0.057539\n",
       "F0semitoneFrom27.5Hz_sma3nz_percentile20.0  0.054529\n",
       "F3frequency_sma3nz_amean                    0.030098\n",
       "slopeV0-500_sma3nz_amean                    0.018203\n",
       "F2frequency_sma3nz_amean                    0.016652\n",
       "F1frequency_sma3nz_stddevNorm               0.016481\n",
       "mfcc4V_sma3nz_stddevNorm                    0.011752\n",
       "mfcc4V_sma3nz_amean                         0.011064"
      ]
     },
     "execution_count": 181,
     "metadata": {},
     "output_type": "execute_result"
    }
   ],
   "source": [
    "explainer = shap.TreeExplainer(model)\n",
    "shap_values = explainer.shap_values(random_voice_X)\n",
    "pd.DataFrame(shap_values[:, 1].reshape(1, -1), columns=X_test.columns).T.sort_values(0, ascending=False).head(10)"
   ]
  },
  {
   "cell_type": "code",
   "execution_count": 169,
   "id": "afa55910",
   "metadata": {},
   "outputs": [
    {
     "data": {
      "image/png": "[encoded data removed]",
      "text/plain": [
       "<Figure size 2000x300 with 1 Axes>"
      ]
     },
     "metadata": {},
     "output_type": "display_data"
    }
   ],
   "source": [
    "shap.force_plot(explainer.expected_value[1], shap_values[:, 1], feature_names=X_test.columns, matplotlib=True)"
   ]
  },
  {
   "cell_type": "markdown",
   "id": "6ebe33de",
   "metadata": {},
   "source": [
    "## Global Explanations\n",
    "\n",
    "By combining many (many) of these kinds of local explanations we get a better understanding of how the model works overall."
   ]
  },
  {
   "cell_type": "code",
   "execution_count": 184,
   "id": "2ebc0b88",
   "metadata": {},
   "outputs": [
    {
     "name": "stderr",
     "output_type": "stream",
     "text": [
      " 97%|=================== | 1943/2000 [00:30<00:00]       "
     ]
    }
   ],
   "source": [
    "explainer = shap.Explainer(model, X_test)\n",
    "shap_values = explainer(X_test[:1000], check_additivity=False)"
   ]
  },
  {
   "cell_type": "code",
   "execution_count": 187,
   "id": "4ca33c4b",
   "metadata": {},
   "outputs": [
    {
     "data": {
      "image/png": "[encoded data removed]",
      "text/plain": [
       "<Figure size 560x665 with 2 Axes>"
      ]
     },
     "metadata": {},
     "output_type": "display_data"
    }
   ],
   "source": [
    "plt.figure(dpi=70)\n",
    "shap.plots.beeswarm(shap_values[:, :, 1], max_display=20)"
   ]
  },
  {
   "cell_type": "markdown",
   "id": "d15200e3",
   "metadata": {},
   "source": [
    "# Results\n",
    "\n",
    "Now lets examine the results:"
   ]
  },
  {
   "cell_type": "markdown",
   "id": "df87526d",
   "metadata": {},
   "source": [
    "## Most important Feature(s) F0 -> the base pitch\n",
    "\n",
    "The first four features all have the same audio feature in common: They are statistical descriptors of the main pitch.\n",
    "The SHAP diagram shows, that a low average pitch has a high shap value (towards male) and vice versa.\n",
    "\n",
    "This is a basic property we all may have intuitively guessed, but the SHAP analysis shows, that even a machine takes the main pitch of a voice as one of the most importand indicators of the gender of a person."
   ]
  },
  {
   "cell_type": "markdown",
   "id": "eac0120a",
   "metadata": {},
   "source": [
    "## HNR in top 5:\n",
    "\n",
    "This was quite to my surprise. It seems like the model also takes the mean Harmonics to Noise Ratio (HNR) into consideration.\n",
    "\n",
    "A low HNR value means, that there is more noise in the audio data (non-harmonic audio content), while a high HNR value means that the audio is sharper with less noise.\n",
    "\n",
    "The SHAP analysis shows, that voices with a high HNR are more associated with female voices, while predicted male voices seem to have a lower HNR.\n",
    "\n",
    "\n",
    "My first guess would be that the overall roughness though factors like breathiness, vocal fry, or irregular glottal pulses decreases the HNR for males."
   ]
  },
  {
   "cell_type": "markdown",
   "id": "5905584d",
   "metadata": {},
   "source": [
    "## F1 reversed?\n",
    "\n",
    "While all pitches follow the same pattern for the model: high => female, low => male, F1 falls out of this pattern.\n",
    "\n",
    "The stddev F1 on the 6th place of SHAP contribution values shows the interesting trend of low => female, high => male.\n",
    "\n",
    "Its important to note, that stddev does not mean pitch in this case (that would be amean, or any percentile).\n",
    "Instead stddev means the gaussian distribution of the F1 Pitch over its mean value.\n",
    "\n",
    "According to the SHAP plot, this means that female voices tend to keep the same pitch for the second harmonic F1. Male voices on the other hand seem to change their second harmonic pitch more often.\n",
    "\n",
    "My guess would be again, that this is because of the rougher nature of the male voice."
   ]
  },
  {
   "cell_type": "markdown",
   "id": "2e5b27b9",
   "metadata": {},
   "source": []
  }
 ],
 "metadata": {
  "kernelspec": {
   "display_name": "age_by_voice",
   "language": "python",
   "name": "age_by_voice"
  },
  "language_info": {
   "codemirror_mode": {
    "name": "ipython",
    "version": 3
   },
   "file_extension": ".py",
   "mimetype": "text/x-python",
   "name": "python",
   "nbconvert_exporter": "python",
   "pygments_lexer": "ipython3",
   "version": "3.10.16"
  }
 },
 "nbformat": 4,
 "nbformat_minor": 5
}
