{
 "cells": [
  {
   "cell_type": "markdown",
   "id": "16c73c08",
   "metadata": {},
   "source": [
    "# Audio Cluster"
   ]
  },
  {
   "cell_type": "code",
   "execution_count": 1,
   "id": "89aac7ef",
   "metadata": {},
   "outputs": [],
   "source": [
    "import os\n",
    "import pandas as pd\n",
    "import numpy as np\n",
    "from sklearn.preprocessing import StandardScaler\n",
    "from sklearn.manifold import TSNE\n",
    "from sklearn.cluster import SpectralClustering"
   ]
  },
  {
   "cell_type": "code",
   "execution_count": 2,
   "id": "1afb5daa",
   "metadata": {},
   "outputs": [],
   "source": [
    "feature_path = \"../data/features.csv\"\n",
    "voices_path = \"../data/voices.csv\"\n",
    "output_path = \"../data/voice_cluster.csv\""
   ]
  },
  {
   "cell_type": "code",
   "execution_count": 3,
   "id": "e3e3c8a4",
   "metadata": {},
   "outputs": [],
   "source": [
    "features = pd.read_csv(feature_path, index_col=\"clip_id\")\n",
    "voices = pd.read_csv(voices_path, index_col=\"clip_id\")"
   ]
  },
  {
   "cell_type": "code",
   "execution_count": 4,
   "id": "3d23f0e8",
   "metadata": {},
   "outputs": [
    {
     "name": "stderr",
     "output_type": "stream",
     "text": [
      "/tmp/ipykernel_48075/3937799415.py:3: DeprecationWarning: DataFrameGroupBy.apply operated on the grouping columns. This behavior is deprecated, and in a future version of pandas the grouping columns will be excluded from the operation. Either pass `include_groups=False` to exclude the groupings or explicitly select the grouping columns after groupby to silence this warning.\n",
      "  data = data.groupby('voice_age_group', group_keys=False).apply(\n"
     ]
    }
   ],
   "source": [
    "min_count = voices['voice_age_group'].value_counts().min()\n",
    "data = features.join(voices, how='inner')\n",
    "data = data.groupby('voice_age_group', group_keys=False).apply(\n",
    "    lambda x: x.sample(n=min_count, random_state=42)\n",
    ").sample(frac=1, random_state=42)\n",
    "features = data[features.columns]\n",
    "voices = data[voices.columns]"
   ]
  },
  {
   "cell_type": "code",
   "execution_count": 5,
   "id": "93cfbdac",
   "metadata": {},
   "outputs": [],
   "source": [
    "scaler = StandardScaler()\n",
    "features_scaled = scaler.fit_transform(features)"
   ]
  },
  {
   "cell_type": "code",
   "execution_count": 6,
   "id": "1fb1f3a4",
   "metadata": {},
   "outputs": [],
   "source": [
    "spectral = SpectralClustering(n_clusters=10, affinity='nearest_neighbors', n_neighbors=10, random_state=42)\n",
    "cluster = spectral.fit_predict(features_scaled)"
   ]
  },
  {
   "cell_type": "code",
   "execution_count": 7,
   "id": "f09f327e",
   "metadata": {},
   "outputs": [],
   "source": [
    "tsne = TSNE(n_components=3, random_state=42)\n",
    "embeddings = tsne.fit_transform(features_scaled)"
   ]
  },
  {
   "cell_type": "code",
   "execution_count": 8,
   "id": "64951220",
   "metadata": {},
   "outputs": [],
   "source": [
    "data = features.join(voices, how='left')\n",
    "data['cluster'] = cluster\n",
    "data['x'] = embeddings[:, 0]\n",
    "data['y'] = embeddings[:, 1]\n",
    "data['z'] = embeddings[:, 2]"
   ]
  },
  {
   "cell_type": "code",
   "execution_count": 9,
   "id": "26812a34",
   "metadata": {},
   "outputs": [],
   "source": [
    "data.to_csv(output_path, index_label=\"clip_id\")"
   ]
  },
  {
   "cell_type": "code",
   "execution_count": null,
   "id": "f0422de4",
   "metadata": {},
   "outputs": [],
   "source": []
  }
 ],
 "metadata": {
  "kernelspec": {
   "display_name": "age_by_voice",
   "language": "python",
   "name": "age_by_voice"
  },
  "language_info": {
   "codemirror_mode": {
    "name": "ipython",
    "version": 3
   },
   "file_extension": ".py",
   "mimetype": "text/x-python",
   "name": "python",
   "nbconvert_exporter": "python",
   "pygments_lexer": "ipython3",
   "version": "3.10.16"
  }
 },
 "nbformat": 4,
 "nbformat_minor": 5
}
